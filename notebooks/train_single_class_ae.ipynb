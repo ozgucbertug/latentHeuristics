{
 "cells": [
  {
   "cell_type": "code",
   "execution_count": 1,
   "metadata": {
    "collapsed": false
   },
   "outputs": [
    {
     "output_type": "stream",
     "name": "stdout",
     "text": [
      "WARNING:tensorflow:From /home/ozgucbertug/.local/lib/python2.7/site-packages/tensorflow/python/framework/op_def_library.py:263: colocate_with (from tensorflow.python.framework.ops) is deprecated and will be removed in a future version.\nInstructions for updating:\nColocations handled automatically by placer.\n"
     ]
    }
   ],
   "source": [
    "import os.path as osp\n",
    "import numpy as np\n",
    "import sys\n",
    "sys.path.append(\"/home/ozgucbertug/Documents/GitHub\")\n",
    "\n",
    "from latentHeuristics.src.ae_templates import mlp_architecture_ala_iclr_18, default_train_params\n",
    "from latentHeuristics.src.autoencoder import Configuration as Conf\n",
    "from latentHeuristics.src.point_net_ae import PointNetAutoEncoder\n",
    "\n",
    "from latentHeuristics.src.in_out import snc_category_to_synth_id, create_dir, PointCloudDataSet, \\\n",
    "                                        load_all_point_clouds_under_folder\n",
    "\n",
    "from latentHeuristics.src.tf_utils import reset_tf_graph\n",
    "from latentHeuristics.src.general_utils import plot_3d_point_cloud"
   ]
  },
  {
   "cell_type": "code",
   "execution_count": 2,
   "metadata": {
    "collapsed": false
   },
   "outputs": [],
   "source": [
    "%load_ext autoreload\n",
    "%autoreload 2\n",
    "%matplotlib inline"
   ]
  },
  {
   "cell_type": "markdown",
   "metadata": {},
   "source": [
    "Define Basic Parameters"
   ]
  },
  {
   "cell_type": "code",
   "execution_count": 3,
   "metadata": {
    "collapsed": false
   },
   "outputs": [],
   "source": [
    "top_out_dir = '../out/model/'          # Use to save Neural-Net check-points etc.\n",
    "top_in_dir = '../ghData/data/' # Top-dir of where point-clouds are stored.\n",
    "\n",
    "experiment_name = 'custom_multi'\n",
    "n_pc_points = 2048                # Number of points per model.\n",
    "bneck_size = 128                  # Bottleneck-AE size\n",
    "ae_loss = 'chamfer'                   # Loss to optimize: 'emd' or 'chamfer'\n",
    "class_name = \"custom_multi\""
   ]
  },
  {
   "cell_type": "markdown",
   "metadata": {},
   "source": [
    "Load Point Clouds"
   ]
  },
  {
   "cell_type": "code",
   "execution_count": 4,
   "metadata": {
    "collapsed": false,
    "tags": []
   },
   "outputs": [
    {
     "output_type": "stream",
     "name": "stdout",
     "text": [
      "../ghData/data/00000001/asymmetric_0000.ply\n",
      "8000 pclouds were loaded. They belong in 1 shape-classes.\n"
     ]
    }
   ],
   "source": [
    "syn_id = snc_category_to_synth_id()[class_name]\n",
    "class_dir = osp.join(top_in_dir , syn_id)\n",
    "all_pc_data = load_all_point_clouds_under_folder(class_dir, n_threads=8, file_ending='.ply', verbose=True)"
   ]
  },
  {
   "cell_type": "markdown",
   "metadata": {},
   "source": [
    "Load default training parameters (some of which are listed beloq). For more details please print the configuration object.\n",
    "\n",
    "    'batch_size': 50   \n",
    "    \n",
    "    'denoising': False     (# by default AE is not denoising)\n",
    "\n",
    "    'learning_rate': 0.0005\n",
    "\n",
    "    'z_rotate': False      (# randomly rotate models of each batch)\n",
    "    \n",
    "    'loss_display_step': 1 (# display loss at end of these many epochs)\n",
    "    'saver_step': 10       (# over how many epochs to save neural-network)"
   ]
  },
  {
   "cell_type": "code",
   "execution_count": 5,
   "metadata": {
    "collapsed": true
   },
   "outputs": [],
   "source": [
    "train_params = default_train_params()"
   ]
  },
  {
   "cell_type": "code",
   "execution_count": 6,
   "metadata": {
    "collapsed": true
   },
   "outputs": [],
   "source": [
    "encoder, decoder, enc_args, dec_args = mlp_architecture_ala_iclr_18(n_pc_points, bneck_size)\n",
    "train_dir = create_dir(osp.join(top_out_dir, experiment_name))"
   ]
  },
  {
   "cell_type": "code",
   "execution_count": 7,
   "metadata": {
    "collapsed": false
   },
   "outputs": [],
   "source": [
    "conf = Conf(n_input = [n_pc_points, 3],\n",
    "            loss = ae_loss,\n",
    "            training_epochs = train_params['training_epochs'],\n",
    "            batch_size = train_params['batch_size'],\n",
    "            denoising = train_params['denoising'],\n",
    "            learning_rate = train_params['learning_rate'],\n",
    "            train_dir = train_dir,\n",
    "            loss_display_step = train_params['loss_display_step'],\n",
    "            saver_step = train_params['saver_step'],\n",
    "            z_rotate = train_params['z_rotate'],\n",
    "            encoder = encoder,\n",
    "            decoder = decoder,\n",
    "            encoder_args = enc_args,\n",
    "            decoder_args = dec_args\n",
    "           )\n",
    "conf.experiment_name = experiment_name\n",
    "conf.held_out_step = 5   # How often to evaluate/print out loss on \n",
    "                         # held_out data (if they are provided in ae.train() ).\n",
    "conf.save(osp.join(train_dir, 'configuration'))"
   ]
  },
  {
   "cell_type": "markdown",
   "metadata": {},
   "source": [
    "Load Pre-Trained AE Model"
   ]
  },
  {
   "cell_type": "code",
   "execution_count": 8,
   "metadata": {
    "collapsed": false
   },
   "outputs": [
    {
     "output_type": "stream",
     "name": "stdout",
     "text": [
      "Building Encoder\n",
      "WARNING:tensorflow:From /home/ozgucbertug/.local/lib/python2.7/site-packages/tflearn/initializations.py:119: __init__ (from tensorflow.python.ops.init_ops) is deprecated and will be removed in a future version.\n",
      "Instructions for updating:\n",
      "Use tf.initializers.variance_scaling instead with distribution=uniform to get equivalent behavior.\n",
      "encoder_conv_layer_0 conv params =  256 bnorm params =  128\n",
      "Tensor(\"custom_multi_2/Relu:0\", shape=(?, 2048, 64), dtype=float32)\n",
      "output size: 131072 \n",
      "\n",
      "encoder_conv_layer_1 conv params =  8320 bnorm params =  256\n",
      "Tensor(\"custom_multi_2/Relu_1:0\", shape=(?, 2048, 128), dtype=float32)\n",
      "output size: 262144 \n",
      "\n",
      "encoder_conv_layer_2 conv params =  16512 bnorm params =  256\n",
      "Tensor(\"custom_multi_2/Relu_2:0\", shape=(?, 2048, 128), dtype=float32)\n",
      "output size: 262144 \n",
      "\n",
      "encoder_conv_layer_3 conv params =  33024 bnorm params =  512\n",
      "Tensor(\"custom_multi_2/Relu_3:0\", shape=(?, 2048, 256), dtype=float32)\n",
      "output size: 524288 \n",
      "\n",
      "encoder_conv_layer_4 conv params =  32896 bnorm params =  256\n",
      "Tensor(\"custom_multi_2/Relu_4:0\", shape=(?, 2048, 128), dtype=float32)\n",
      "output size: 262144 \n",
      "\n",
      "Tensor(\"custom_multi_2/Max:0\", shape=(?, 128), dtype=float32)\n",
      "Building Decoder\n",
      "decoder_fc_0 FC params =  33024 Tensor(\"custom_multi_2/Relu_5:0\", shape=(?, 256), dtype=float32)\n",
      "output size: 256 \n",
      "\n",
      "decoder_fc_1 FC params =  65792 Tensor(\"custom_multi_2/Relu_6:0\", shape=(?, 256), dtype=float32)\n",
      "output size: 256 \n",
      "\n",
      "decoder_fc_2 FC params =  1579008 Tensor(\"custom_multi_2/decoder_fc_2/BiasAdd:0\", shape=(?, 6144), dtype=float32)\n",
      "output size: 6144 \n",
      "\n",
      "WARNING:tensorflow:From /home/ozgucbertug/.local/lib/python2.7/site-packages/tensorflow/python/ops/math_ops.py:3066: to_int32 (from tensorflow.python.ops.math_ops) is deprecated and will be removed in a future version.\n",
      "Instructions for updating:\n",
      "Use tf.cast instead.\n",
      "WARNING:tensorflow:From /home/ozgucbertug/.local/lib/python2.7/site-packages/tensorflow/python/ops/math_grad.py:102: div (from tensorflow.python.ops.math_ops) is deprecated and will be removed in a future version.\n",
      "Instructions for updating:\n",
      "Deprecated in favor of operator or tf.math.divide.\n",
      "WARNING:tensorflow:From /home/ozgucbertug/.local/lib/python2.7/site-packages/tensorflow/python/training/saver.py:1266: checkpoint_exists (from tensorflow.python.training.checkpoint_management) is deprecated and will be removed in a future version.\n",
      "Instructions for updating:\n",
      "Use standard file APIs to check for files with this prefix.\n",
      "INFO:tensorflow:Restoring parameters from ../out/model/custom_multi/models.ckpt-500\n"
     ]
    }
   ],
   "source": [
    "load_pre_trained_ae = True\n",
    "restore_epoch = 500\n",
    "if load_pre_trained_ae:\n",
    "    conf = Conf.load(train_dir + '/configuration')\n",
    "    reset_tf_graph()\n",
    "    ae = PointNetAutoEncoder(conf.experiment_name, conf)\n",
    "    ae.restore_model(conf.train_dir, epoch=restore_epoch)"
   ]
  },
  {
   "cell_type": "markdown",
   "metadata": {},
   "source": [
    "Build the AE Model"
   ]
  },
  {
   "cell_type": "code",
   "execution_count": 9,
   "metadata": {
    "collapsed": false
   },
   "outputs": [],
   "source": [
    "if not load_pre_trained_ae:\n",
    "    reset_tf_graph()\n",
    "    ae = PointNetAutoEncoder(conf.experiment_name, conf)"
   ]
  },
  {
   "cell_type": "markdown",
   "metadata": {},
   "source": [
    "Train the AE Model"
   ]
  },
  {
   "cell_type": "code",
   "execution_count": 10,
   "metadata": {
    "collapsed": false,
    "tags": []
   },
   "outputs": [],
   "source": [
    "if not load_pre_trained_ae:\n",
    "    buf_size = 1 # Make 'training_stats' file to flush each output line regarding training.\n",
    "    fout = open(osp.join(conf.train_dir, 'train_stats.txt'), 'a', buf_size)\n",
    "    train_stats = ae.train(all_pc_data, conf, log_file=fout)\n",
    "    fout.close()"
   ]
  },
  {
   "source": [
    "# Export"
   ],
   "cell_type": "markdown",
   "metadata": {}
  },
  {
   "source": [
    "Define Export parameters"
   ],
   "cell_type": "markdown",
   "metadata": {}
  },
  {
   "cell_type": "code",
   "execution_count": 11,
   "metadata": {},
   "outputs": [],
   "source": [
    "from plyfile import PlyData, PlyElement\n",
    "\n",
    "def write_ply(points, filename, text=True):\n",
    "    points = [(points[i,0], points[i,1], points[i,2]) for i in range(points.shape[0])]\n",
    "    vertex = np.array(points, dtype=[('x', 'f4'), ('y', 'f4'),('z', 'f4')])\n",
    "    el = PlyElement.describe(vertex, 'vertex', comments=['vertices'])\n",
    "    PlyData([el], text=text).write(filename)\n",
    "\n",
    "out_dir = \"/home/ozgucbertug/Documents/GitHub/latentHeuristics/out\"\n",
    "\n",
    "export_latent = False\n",
    "export_reconstruct = False\n",
    "export_interpolate = False"
   ]
  },
  {
   "cell_type": "markdown",
   "metadata": {},
   "source": [
    "Export all latent vectors and labels to csv file"
   ]
  },
  {
   "cell_type": "code",
   "execution_count": 12,
   "metadata": {},
   "outputs": [
    {
     "output_type": "stream",
     "name": "stdout",
     "text": [
      "/home/ozgucbertug/Documents/GitHub/latentHeuristics/out/csv/custom_multi_all_latent_vectors.csv saved!\n/home/ozgucbertug/Documents/GitHub/latentHeuristics/out/csv/custom_multi_all_labels.csv saved!\n"
     ]
    }
   ],
   "source": [
    "if export_latent:\n",
    "    all_latent_vectors = np.zeros((len(all_pc_data.point_clouds),128))\n",
    "\n",
    "    for i in range(len(all_pc_data.point_clouds)):\n",
    "        pc = all_pc_data.point_clouds[i].reshape((1,2048,3))\n",
    "        all_latent_vectors[i] = ae.transform(pc)\n",
    "\n",
    "    if not os.path.exists(out_dir+\"/csv\"):\n",
    "            os.makedirs(out_dir+\"/csv\")\n",
    "\n",
    "    vector_fn = out_dir+\"/csv/\"+experiment_name+\"_all_latent_vectors.csv\"\n",
    "    np.savetxt(vector_fn, all_latent_vectors, delimiter=',')\n",
    "    print(vector_fn+\" saved!\")\n",
    "\n",
    "    label_fn = out_dir+\"/csv/\"+experiment_name+\"_all_labels.csv\"\n",
    "    np.savetxt(label_fn,all_pc_data.labels.reshape((len(all_pc_data.labels,))), delimiter=',', fmt='%s')\n",
    "    print(label_fn+\" saved!\")"
   ]
  },
  {
   "source": [
    "Export reconstructed point clouds to ply file"
   ],
   "cell_type": "markdown",
   "metadata": {}
  },
  {
   "cell_type": "code",
   "execution_count": 13,
   "metadata": {
    "tags": [
     "outputPrepend"
    ]
   },
   "outputs": [
    {
     "output_type": "stream",
     "name": "stdout",
     "text": [
      "nstruct/00000001_spiral_1824_reconstructed saved!\n",
      "/home/ozgucbertug/Documents/GitHub/latentHeuristics/out/ply/reconstruct/00000001_spiral_1825_reconstructed saved!\n",
      "/home/ozgucbertug/Documents/GitHub/latentHeuristics/out/ply/reconstruct/00000001_spiral_1826_reconstructed saved!\n",
      "/home/ozgucbertug/Documents/GitHub/latentHeuristics/out/ply/reconstruct/00000001_spiral_1827_reconstructed saved!\n",
      "/home/ozgucbertug/Documents/GitHub/latentHeuristics/out/ply/reconstruct/00000001_spiral_1828_reconstructed saved!\n",
      "/home/ozgucbertug/Documents/GitHub/latentHeuristics/out/ply/reconstruct/00000001_spiral_1829_reconstructed saved!\n",
      "/home/ozgucbertug/Documents/GitHub/latentHeuristics/out/ply/reconstruct/00000001_spiral_1830_reconstructed saved!\n",
      "/home/ozgucbertug/Documents/GitHub/latentHeuristics/out/ply/reconstruct/00000001_spiral_1831_reconstructed saved!\n",
      "/home/ozgucbertug/Documents/GitHub/latentHeuristics/out/ply/reconstruct/00000001_spiral_1832_reconstructed saved!\n",
      "/home/ozgucbertug/Documents/GitHub/latentHeuristics/out/ply/reconstruct/00000001_spiral_1833_reconstructed saved!\n",
      "/home/ozgucbertug/Documents/GitHub/latentHeuristics/out/ply/reconstruct/00000001_spiral_1834_reconstructed saved!\n",
      "/home/ozgucbertug/Documents/GitHub/latentHeuristics/out/ply/reconstruct/00000001_spiral_1835_reconstructed saved!\n",
      "/home/ozgucbertug/Documents/GitHub/latentHeuristics/out/ply/reconstruct/00000001_spiral_1836_reconstructed saved!\n",
      "/home/ozgucbertug/Documents/GitHub/latentHeuristics/out/ply/reconstruct/00000001_spiral_1837_reconstructed saved!\n",
      "/home/ozgucbertug/Documents/GitHub/latentHeuristics/out/ply/reconstruct/00000001_spiral_1838_reconstructed saved!\n",
      "/home/ozgucbertug/Documents/GitHub/latentHeuristics/out/ply/reconstruct/00000001_spiral_1839_reconstructed saved!\n",
      "/home/ozgucbertug/Documents/GitHub/latentHeuristics/out/ply/reconstruct/00000001_spiral_1840_reconstructed saved!\n",
      "/home/ozgucbertug/Documents/GitHub/latentHeuristics/out/ply/reconstruct/00000001_spiral_1841_reconstructed saved!\n",
      "/home/ozgucbertug/Documents/GitHub/latentHeuristics/out/ply/reconstruct/00000001_spiral_1842_reconstructed saved!\n",
      "/home/ozgucbertug/Documents/GitHub/latentHeuristics/out/ply/reconstruct/00000001_spiral_1843_reconstructed saved!\n",
      "/home/ozgucbertug/Documents/GitHub/latentHeuristics/out/ply/reconstruct/00000001_spiral_1844_reconstructed saved!\n",
      "/home/ozgucbertug/Documents/GitHub/latentHeuristics/out/ply/reconstruct/00000001_spiral_1845_reconstructed saved!\n",
      "/home/ozgucbertug/Documents/GitHub/latentHeuristics/out/ply/reconstruct/00000001_spiral_1846_reconstructed saved!\n",
      "/home/ozgucbertug/Documents/GitHub/latentHeuristics/out/ply/reconstruct/00000001_spiral_1847_reconstructed saved!\n",
      "/home/ozgucbertug/Documents/GitHub/latentHeuristics/out/ply/reconstruct/00000001_spiral_1848_reconstructed saved!\n",
      "/home/ozgucbertug/Documents/GitHub/latentHeuristics/out/ply/reconstruct/00000001_spiral_1849_reconstructed saved!\n",
      "/home/ozgucbertug/Documents/GitHub/latentHeuristics/out/ply/reconstruct/00000001_spiral_1850_reconstructed saved!\n",
      "/home/ozgucbertug/Documents/GitHub/latentHeuristics/out/ply/reconstruct/00000001_spiral_1851_reconstructed saved!\n",
      "/home/ozgucbertug/Documents/GitHub/latentHeuristics/out/ply/reconstruct/00000001_spiral_1852_reconstructed saved!\n",
      "/home/ozgucbertug/Documents/GitHub/latentHeuristics/out/ply/reconstruct/00000001_spiral_1853_reconstructed saved!\n",
      "/home/ozgucbertug/Documents/GitHub/latentHeuristics/out/ply/reconstruct/00000001_spiral_1854_reconstructed saved!\n",
      "/home/ozgucbertug/Documents/GitHub/latentHeuristics/out/ply/reconstruct/00000001_spiral_1855_reconstructed saved!\n",
      "/home/ozgucbertug/Documents/GitHub/latentHeuristics/out/ply/reconstruct/00000001_spiral_1856_reconstructed saved!\n",
      "/home/ozgucbertug/Documents/GitHub/latentHeuristics/out/ply/reconstruct/00000001_spiral_1857_reconstructed saved!\n",
      "/home/ozgucbertug/Documents/GitHub/latentHeuristics/out/ply/reconstruct/00000001_spiral_1858_reconstructed saved!\n",
      "/home/ozgucbertug/Documents/GitHub/latentHeuristics/out/ply/reconstruct/00000001_spiral_1859_reconstructed saved!\n",
      "/home/ozgucbertug/Documents/GitHub/latentHeuristics/out/ply/reconstruct/00000001_spiral_1860_reconstructed saved!\n",
      "/home/ozgucbertug/Documents/GitHub/latentHeuristics/out/ply/reconstruct/00000001_spiral_1861_reconstructed saved!\n",
      "/home/ozgucbertug/Documents/GitHub/latentHeuristics/out/ply/reconstruct/00000001_spiral_1862_reconstructed saved!\n",
      "/home/ozgucbertug/Documents/GitHub/latentHeuristics/out/ply/reconstruct/00000001_spiral_1863_reconstructed saved!\n",
      "/home/ozgucbertug/Documents/GitHub/latentHeuristics/out/ply/reconstruct/00000001_spiral_1864_reconstructed saved!\n",
      "/home/ozgucbertug/Documents/GitHub/latentHeuristics/out/ply/reconstruct/00000001_spiral_1865_reconstructed saved!\n",
      "/home/ozgucbertug/Documents/GitHub/latentHeuristics/out/ply/reconstruct/00000001_spiral_1866_reconstructed saved!\n",
      "/home/ozgucbertug/Documents/GitHub/latentHeuristics/out/ply/reconstruct/00000001_spiral_1867_reconstructed saved!\n",
      "/home/ozgucbertug/Documents/GitHub/latentHeuristics/out/ply/reconstruct/00000001_spiral_1868_reconstructed saved!\n",
      "/home/ozgucbertug/Documents/GitHub/latentHeuristics/out/ply/reconstruct/00000001_spiral_1869_reconstructed saved!\n",
      "/home/ozgucbertug/Documents/GitHub/latentHeuristics/out/ply/reconstruct/00000001_spiral_1870_reconstructed saved!\n",
      "/home/ozgucbertug/Documents/GitHub/latentHeuristics/out/ply/reconstruct/00000001_spiral_1871_reconstructed saved!\n",
      "/home/ozgucbertug/Documents/GitHub/latentHeuristics/out/ply/reconstruct/00000001_spiral_1872_reconstructed saved!\n",
      "/home/ozgucbertug/Documents/GitHub/latentHeuristics/out/ply/reconstruct/00000001_spiral_1873_reconstructed saved!\n",
      "/home/ozgucbertug/Documents/GitHub/latentHeuristics/out/ply/reconstruct/00000001_spiral_1874_reconstructed saved!\n",
      "/home/ozgucbertug/Documents/GitHub/latentHeuristics/out/ply/reconstruct/00000001_spiral_1875_reconstructed saved!\n",
      "/home/ozgucbertug/Documents/GitHub/latentHeuristics/out/ply/reconstruct/00000001_spiral_1876_reconstructed saved!\n",
      "/home/ozgucbertug/Documents/GitHub/latentHeuristics/out/ply/reconstruct/00000001_spiral_1877_reconstructed saved!\n",
      "/home/ozgucbertug/Documents/GitHub/latentHeuristics/out/ply/reconstruct/00000001_spiral_1878_reconstructed saved!\n",
      "/home/ozgucbertug/Documents/GitHub/latentHeuristics/out/ply/reconstruct/00000001_spiral_1879_reconstructed saved!\n",
      "/home/ozgucbertug/Documents/GitHub/latentHeuristics/out/ply/reconstruct/00000001_spiral_1880_reconstructed saved!\n",
      "/home/ozgucbertug/Documents/GitHub/latentHeuristics/out/ply/reconstruct/00000001_spiral_1881_reconstructed saved!\n",
      "/home/ozgucbertug/Documents/GitHub/latentHeuristics/out/ply/reconstruct/00000001_spiral_1882_reconstructed saved!\n",
      "/home/ozgucbertug/Documents/GitHub/latentHeuristics/out/ply/reconstruct/00000001_spiral_1883_reconstructed saved!\n",
      "/home/ozgucbertug/Documents/GitHub/latentHeuristics/out/ply/reconstruct/00000001_spiral_1884_reconstructed saved!\n",
      "/home/ozgucbertug/Documents/GitHub/latentHeuristics/out/ply/reconstruct/00000001_spiral_1885_reconstructed saved!\n",
      "/home/ozgucbertug/Documents/GitHub/latentHeuristics/out/ply/reconstruct/00000001_spiral_1886_reconstructed saved!\n",
      "/home/ozgucbertug/Documents/GitHub/latentHeuristics/out/ply/reconstruct/00000001_spiral_1887_reconstructed saved!\n",
      "/home/ozgucbertug/Documents/GitHub/latentHeuristics/out/ply/reconstruct/00000001_spiral_1888_reconstructed saved!\n",
      "/home/ozgucbertug/Documents/GitHub/latentHeuristics/out/ply/reconstruct/00000001_spiral_1889_reconstructed saved!\n",
      "/home/ozgucbertug/Documents/GitHub/latentHeuristics/out/ply/reconstruct/00000001_spiral_1890_reconstructed saved!\n",
      "/home/ozgucbertug/Documents/GitHub/latentHeuristics/out/ply/reconstruct/00000001_spiral_1891_reconstructed saved!\n",
      "/home/ozgucbertug/Documents/GitHub/latentHeuristics/out/ply/reconstruct/00000001_spiral_1892_reconstructed saved!\n",
      "/home/ozgucbertug/Documents/GitHub/latentHeuristics/out/ply/reconstruct/00000001_spiral_1893_reconstructed saved!\n",
      "/home/ozgucbertug/Documents/GitHub/latentHeuristics/out/ply/reconstruct/00000001_spiral_1894_reconstructed saved!\n",
      "/home/ozgucbertug/Documents/GitHub/latentHeuristics/out/ply/reconstruct/00000001_spiral_1895_reconstructed saved!\n",
      "/home/ozgucbertug/Documents/GitHub/latentHeuristics/out/ply/reconstruct/00000001_spiral_1896_reconstructed saved!\n",
      "/home/ozgucbertug/Documents/GitHub/latentHeuristics/out/ply/reconstruct/00000001_spiral_1897_reconstructed saved!\n",
      "/home/ozgucbertug/Documents/GitHub/latentHeuristics/out/ply/reconstruct/00000001_spiral_1898_reconstructed saved!\n",
      "/home/ozgucbertug/Documents/GitHub/latentHeuristics/out/ply/reconstruct/00000001_spiral_1899_reconstructed saved!\n",
      "/home/ozgucbertug/Documents/GitHub/latentHeuristics/out/ply/reconstruct/00000001_spiral_1900_reconstructed saved!\n",
      "/home/ozgucbertug/Documents/GitHub/latentHeuristics/out/ply/reconstruct/00000001_spiral_1901_reconstructed saved!\n",
      "/home/ozgucbertug/Documents/GitHub/latentHeuristics/out/ply/reconstruct/00000001_spiral_1902_reconstructed saved!\n",
      "/home/ozgucbertug/Documents/GitHub/latentHeuristics/out/ply/reconstruct/00000001_spiral_1903_reconstructed saved!\n",
      "/home/ozgucbertug/Documents/GitHub/latentHeuristics/out/ply/reconstruct/00000001_spiral_1904_reconstructed saved!\n",
      "/home/ozgucbertug/Documents/GitHub/latentHeuristics/out/ply/reconstruct/00000001_spiral_1905_reconstructed saved!\n",
      "/home/ozgucbertug/Documents/GitHub/latentHeuristics/out/ply/reconstruct/00000001_spiral_1906_reconstructed saved!\n",
      "/home/ozgucbertug/Documents/GitHub/latentHeuristics/out/ply/reconstruct/00000001_spiral_1907_reconstructed saved!\n",
      "/home/ozgucbertug/Documents/GitHub/latentHeuristics/out/ply/reconstruct/00000001_spiral_1908_reconstructed saved!\n",
      "/home/ozgucbertug/Documents/GitHub/latentHeuristics/out/ply/reconstruct/00000001_spiral_1909_reconstructed saved!\n",
      "/home/ozgucbertug/Documents/GitHub/latentHeuristics/out/ply/reconstruct/00000001_spiral_1910_reconstructed saved!\n",
      "/home/ozgucbertug/Documents/GitHub/latentHeuristics/out/ply/reconstruct/00000001_spiral_1911_reconstructed saved!\n",
      "/home/ozgucbertug/Documents/GitHub/latentHeuristics/out/ply/reconstruct/00000001_spiral_1912_reconstructed saved!\n",
      "/home/ozgucbertug/Documents/GitHub/latentHeuristics/out/ply/reconstruct/00000001_spiral_1913_reconstructed saved!\n",
      "/home/ozgucbertug/Documents/GitHub/latentHeuristics/out/ply/reconstruct/00000001_spiral_1914_reconstructed saved!\n",
      "/home/ozgucbertug/Documents/GitHub/latentHeuristics/out/ply/reconstruct/00000001_spiral_1915_reconstructed saved!\n",
      "/home/ozgucbertug/Documents/GitHub/latentHeuristics/out/ply/reconstruct/00000001_spiral_1916_reconstructed saved!\n",
      "/home/ozgucbertug/Documents/GitHub/latentHeuristics/out/ply/reconstruct/00000001_spiral_1917_reconstructed saved!\n",
      "/home/ozgucbertug/Documents/GitHub/latentHeuristics/out/ply/reconstruct/00000001_spiral_1918_reconstructed saved!\n",
      "/home/ozgucbertug/Documents/GitHub/latentHeuristics/out/ply/reconstruct/00000001_spiral_1919_reconstructed saved!\n",
      "/home/ozgucbertug/Documents/GitHub/latentHeuristics/out/ply/reconstruct/00000001_spiral_1920_reconstructed saved!\n",
      "/home/ozgucbertug/Documents/GitHub/latentHeuristics/out/ply/reconstruct/00000001_spiral_1921_reconstructed saved!\n",
      "/home/ozgucbertug/Documents/GitHub/latentHeuristics/out/ply/reconstruct/00000001_spiral_1922_reconstructed saved!\n",
      "/home/ozgucbertug/Documents/GitHub/latentHeuristics/out/ply/reconstruct/00000001_spiral_1923_reconstructed saved!\n",
      "/home/ozgucbertug/Documents/GitHub/latentHeuristics/out/ply/reconstruct/00000001_spiral_1924_reconstructed saved!\n",
      "/home/ozgucbertug/Documents/GitHub/latentHeuristics/out/ply/reconstruct/00000001_spiral_1925_reconstructed saved!\n",
      "/home/ozgucbertug/Documents/GitHub/latentHeuristics/out/ply/reconstruct/00000001_spiral_1926_reconstructed saved!\n",
      "/home/ozgucbertug/Documents/GitHub/latentHeuristics/out/ply/reconstruct/00000001_spiral_1927_reconstructed saved!\n",
      "/home/ozgucbertug/Documents/GitHub/latentHeuristics/out/ply/reconstruct/00000001_spiral_1928_reconstructed saved!\n",
      "/home/ozgucbertug/Documents/GitHub/latentHeuristics/out/ply/reconstruct/00000001_spiral_1929_reconstructed saved!\n",
      "/home/ozgucbertug/Documents/GitHub/latentHeuristics/out/ply/reconstruct/00000001_spiral_1930_reconstructed saved!\n",
      "/home/ozgucbertug/Documents/GitHub/latentHeuristics/out/ply/reconstruct/00000001_spiral_1931_reconstructed saved!\n",
      "/home/ozgucbertug/Documents/GitHub/latentHeuristics/out/ply/reconstruct/00000001_spiral_1932_reconstructed saved!\n",
      "/home/ozgucbertug/Documents/GitHub/latentHeuristics/out/ply/reconstruct/00000001_spiral_1933_reconstructed saved!\n",
      "/home/ozgucbertug/Documents/GitHub/latentHeuristics/out/ply/reconstruct/00000001_spiral_1934_reconstructed saved!\n",
      "/home/ozgucbertug/Documents/GitHub/latentHeuristics/out/ply/reconstruct/00000001_spiral_1935_reconstructed saved!\n",
      "/home/ozgucbertug/Documents/GitHub/latentHeuristics/out/ply/reconstruct/00000001_spiral_1936_reconstructed saved!\n",
      "/home/ozgucbertug/Documents/GitHub/latentHeuristics/out/ply/reconstruct/00000001_spiral_1937_reconstructed saved!\n",
      "/home/ozgucbertug/Documents/GitHub/latentHeuristics/out/ply/reconstruct/00000001_spiral_1938_reconstructed saved!\n",
      "/home/ozgucbertug/Documents/GitHub/latentHeuristics/out/ply/reconstruct/00000001_spiral_1939_reconstructed saved!\n",
      "/home/ozgucbertug/Documents/GitHub/latentHeuristics/out/ply/reconstruct/00000001_spiral_1940_reconstructed saved!\n",
      "/home/ozgucbertug/Documents/GitHub/latentHeuristics/out/ply/reconstruct/00000001_spiral_1941_reconstructed saved!\n",
      "/home/ozgucbertug/Documents/GitHub/latentHeuristics/out/ply/reconstruct/00000001_spiral_1942_reconstructed saved!\n",
      "/home/ozgucbertug/Documents/GitHub/latentHeuristics/out/ply/reconstruct/00000001_spiral_1943_reconstructed saved!\n",
      "/home/ozgucbertug/Documents/GitHub/latentHeuristics/out/ply/reconstruct/00000001_spiral_1944_reconstructed saved!\n",
      "/home/ozgucbertug/Documents/GitHub/latentHeuristics/out/ply/reconstruct/00000001_spiral_1945_reconstructed saved!\n",
      "/home/ozgucbertug/Documents/GitHub/latentHeuristics/out/ply/reconstruct/00000001_spiral_1946_reconstructed saved!\n",
      "/home/ozgucbertug/Documents/GitHub/latentHeuristics/out/ply/reconstruct/00000001_spiral_1947_reconstructed saved!\n",
      "/home/ozgucbertug/Documents/GitHub/latentHeuristics/out/ply/reconstruct/00000001_spiral_1948_reconstructed saved!\n",
      "/home/ozgucbertug/Documents/GitHub/latentHeuristics/out/ply/reconstruct/00000001_spiral_1949_reconstructed saved!\n",
      "/home/ozgucbertug/Documents/GitHub/latentHeuristics/out/ply/reconstruct/00000001_spiral_1950_reconstructed saved!\n",
      "/home/ozgucbertug/Documents/GitHub/latentHeuristics/out/ply/reconstruct/00000001_spiral_1951_reconstructed saved!\n",
      "/home/ozgucbertug/Documents/GitHub/latentHeuristics/out/ply/reconstruct/00000001_spiral_1952_reconstructed saved!\n",
      "/home/ozgucbertug/Documents/GitHub/latentHeuristics/out/ply/reconstruct/00000001_spiral_1953_reconstructed saved!\n",
      "/home/ozgucbertug/Documents/GitHub/latentHeuristics/out/ply/reconstruct/00000001_spiral_1954_reconstructed saved!\n",
      "/home/ozgucbertug/Documents/GitHub/latentHeuristics/out/ply/reconstruct/00000001_spiral_1955_reconstructed saved!\n",
      "/home/ozgucbertug/Documents/GitHub/latentHeuristics/out/ply/reconstruct/00000001_spiral_1956_reconstructed saved!\n",
      "/home/ozgucbertug/Documents/GitHub/latentHeuristics/out/ply/reconstruct/00000001_spiral_1957_reconstructed saved!\n",
      "/home/ozgucbertug/Documents/GitHub/latentHeuristics/out/ply/reconstruct/00000001_spiral_1958_reconstructed saved!\n",
      "/home/ozgucbertug/Documents/GitHub/latentHeuristics/out/ply/reconstruct/00000001_spiral_1959_reconstructed saved!\n",
      "/home/ozgucbertug/Documents/GitHub/latentHeuristics/out/ply/reconstruct/00000001_spiral_1960_reconstructed saved!\n",
      "/home/ozgucbertug/Documents/GitHub/latentHeuristics/out/ply/reconstruct/00000001_spiral_1961_reconstructed saved!\n",
      "/home/ozgucbertug/Documents/GitHub/latentHeuristics/out/ply/reconstruct/00000001_spiral_1962_reconstructed saved!\n",
      "/home/ozgucbertug/Documents/GitHub/latentHeuristics/out/ply/reconstruct/00000001_spiral_1963_reconstructed saved!\n",
      "/home/ozgucbertug/Documents/GitHub/latentHeuristics/out/ply/reconstruct/00000001_spiral_1964_reconstructed saved!\n",
      "/home/ozgucbertug/Documents/GitHub/latentHeuristics/out/ply/reconstruct/00000001_spiral_1965_reconstructed saved!\n",
      "/home/ozgucbertug/Documents/GitHub/latentHeuristics/out/ply/reconstruct/00000001_spiral_1966_reconstructed saved!\n",
      "/home/ozgucbertug/Documents/GitHub/latentHeuristics/out/ply/reconstruct/00000001_spiral_1967_reconstructed saved!\n",
      "/home/ozgucbertug/Documents/GitHub/latentHeuristics/out/ply/reconstruct/00000001_spiral_1968_reconstructed saved!\n",
      "/home/ozgucbertug/Documents/GitHub/latentHeuristics/out/ply/reconstruct/00000001_spiral_1969_reconstructed saved!\n",
      "/home/ozgucbertug/Documents/GitHub/latentHeuristics/out/ply/reconstruct/00000001_spiral_1970_reconstructed saved!\n",
      "/home/ozgucbertug/Documents/GitHub/latentHeuristics/out/ply/reconstruct/00000001_spiral_1971_reconstructed saved!\n",
      "/home/ozgucbertug/Documents/GitHub/latentHeuristics/out/ply/reconstruct/00000001_spiral_1972_reconstructed saved!\n",
      "/home/ozgucbertug/Documents/GitHub/latentHeuristics/out/ply/reconstruct/00000001_spiral_1973_reconstructed saved!\n",
      "/home/ozgucbertug/Documents/GitHub/latentHeuristics/out/ply/reconstruct/00000001_spiral_1974_reconstructed saved!\n",
      "/home/ozgucbertug/Documents/GitHub/latentHeuristics/out/ply/reconstruct/00000001_spiral_1975_reconstructed saved!\n",
      "/home/ozgucbertug/Documents/GitHub/latentHeuristics/out/ply/reconstruct/00000001_spiral_1976_reconstructed saved!\n",
      "/home/ozgucbertug/Documents/GitHub/latentHeuristics/out/ply/reconstruct/00000001_spiral_1977_reconstructed saved!\n",
      "/home/ozgucbertug/Documents/GitHub/latentHeuristics/out/ply/reconstruct/00000001_spiral_1978_reconstructed saved!\n",
      "/home/ozgucbertug/Documents/GitHub/latentHeuristics/out/ply/reconstruct/00000001_spiral_1979_reconstructed saved!\n",
      "/home/ozgucbertug/Documents/GitHub/latentHeuristics/out/ply/reconstruct/00000001_spiral_1980_reconstructed saved!\n",
      "/home/ozgucbertug/Documents/GitHub/latentHeuristics/out/ply/reconstruct/00000001_spiral_1981_reconstructed saved!\n",
      "/home/ozgucbertug/Documents/GitHub/latentHeuristics/out/ply/reconstruct/00000001_spiral_1982_reconstructed saved!\n",
      "/home/ozgucbertug/Documents/GitHub/latentHeuristics/out/ply/reconstruct/00000001_spiral_1983_reconstructed saved!\n",
      "/home/ozgucbertug/Documents/GitHub/latentHeuristics/out/ply/reconstruct/00000001_spiral_1984_reconstructed saved!\n",
      "/home/ozgucbertug/Documents/GitHub/latentHeuristics/out/ply/reconstruct/00000001_spiral_1985_reconstructed saved!\n",
      "/home/ozgucbertug/Documents/GitHub/latentHeuristics/out/ply/reconstruct/00000001_spiral_1986_reconstructed saved!\n",
      "/home/ozgucbertug/Documents/GitHub/latentHeuristics/out/ply/reconstruct/00000001_spiral_1987_reconstructed saved!\n",
      "/home/ozgucbertug/Documents/GitHub/latentHeuristics/out/ply/reconstruct/00000001_spiral_1988_reconstructed saved!\n",
      "/home/ozgucbertug/Documents/GitHub/latentHeuristics/out/ply/reconstruct/00000001_spiral_1989_reconstructed saved!\n",
      "/home/ozgucbertug/Documents/GitHub/latentHeuristics/out/ply/reconstruct/00000001_spiral_1990_reconstructed saved!\n",
      "/home/ozgucbertug/Documents/GitHub/latentHeuristics/out/ply/reconstruct/00000001_spiral_1991_reconstructed saved!\n",
      "/home/ozgucbertug/Documents/GitHub/latentHeuristics/out/ply/reconstruct/00000001_spiral_1992_reconstructed saved!\n",
      "/home/ozgucbertug/Documents/GitHub/latentHeuristics/out/ply/reconstruct/00000001_spiral_1993_reconstructed saved!\n",
      "/home/ozgucbertug/Documents/GitHub/latentHeuristics/out/ply/reconstruct/00000001_spiral_1994_reconstructed saved!\n",
      "/home/ozgucbertug/Documents/GitHub/latentHeuristics/out/ply/reconstruct/00000001_spiral_1995_reconstructed saved!\n",
      "/home/ozgucbertug/Documents/GitHub/latentHeuristics/out/ply/reconstruct/00000001_spiral_1996_reconstructed saved!\n",
      "/home/ozgucbertug/Documents/GitHub/latentHeuristics/out/ply/reconstruct/00000001_spiral_1997_reconstructed saved!\n",
      "/home/ozgucbertug/Documents/GitHub/latentHeuristics/out/ply/reconstruct/00000001_spiral_1998_reconstructed saved!\n",
      "/home/ozgucbertug/Documents/GitHub/latentHeuristics/out/ply/reconstruct/00000001_spiral_1999_reconstructed saved!\n"
     ]
    }
   ],
   "source": [
    "if export_reconstruct:\n",
    "    if not os.path.exists(out_dir+\"/ply/reconstruct\"):\n",
    "            os.makedirs(out_dir+\"/ply/reconstruct\")\n",
    "\n",
    "    for i in range(len(all_pc_data.point_clouds)):\n",
    "        fn = fn = out_dir+\"/ply/reconstruct/%s_reconstructed\" % (all_pc_data.labels[i])\n",
    "        pc = ae.reconstruct(all_pc_data.point_clouds[i].reshape((1,2048,3)))[0][0]\n",
    "        write_ply(pc, fn)\n",
    "        print(fn+\" saved!\")"
   ]
  },
  {
   "source": [
    "Export interpolated point clouds (simple_i --> asymmetric_i, spiral_i, lowPoly_i) to ply file"
   ],
   "cell_type": "markdown",
   "metadata": {}
  },
  {
   "cell_type": "code",
   "execution_count": 14,
   "metadata": {
    "collapsed": false
   },
   "outputs": [],
   "source": [
    "if export_interpolate:\n",
    "    n_samples = 4\n",
    "    n_interpolate = 20\n",
    "\n",
    "    if not os.path.exists(out_dir+\"/ply/interpolate\"):\n",
    "            os.makedirs(out_dir+\"/ply/interpolate\")\n",
    "\n",
    "    for i in np.linspace(0, 2000, n_samples, endpoint=False):\n",
    "        i = int(i)\n",
    "        simple_asymmetric = ae.interpolate(all_pc_data.point_clouds[4000+i],  all_pc_data.point_clouds[0000+i], steps=n_interpolate)\n",
    "        simple_lowPoly = ae.interpolate(all_pc_data.point_clouds[4000+i],  all_pc_data.point_clouds[2000+i], steps=n_interpolate)\n",
    "        simple_spiral = ae.interpolate(all_pc_data.point_clouds[4000+i],  all_pc_data.point_clouds[6000+i], steps=n_interpolate)\n",
    "        for j in range(n_interpolate+2):\n",
    "            fn = out_dir+\"/ply/interpolate/simple_asymmetric_%04d_%02d\" % (i,j)\n",
    "            write_ply(simple_asymmetric[j], fn)\n",
    "            print(fn+\" saved!\")\n",
    "            \n",
    "            fn = out_dir+\"/ply/interpolate/simple_lowPoly_%04d_%02d\" % (i,j)\n",
    "            write_ply(simple_lowPoly[j], fn)\n",
    "            print(fn+\" saved!\")\n",
    "            \n",
    "            fn = out_dir+\"/ply/interpolate/simple_spiral_%04d_%02d\" % (i,j)\n",
    "            write_ply(simple_spiral[j], fn)\n",
    "            print(fn+\" saved!\")\n",
    "        "
   ]
  },
  {
   "cell_type": "code",
   "execution_count": null,
   "metadata": {},
   "outputs": [],
   "source": []
  }
 ],
 "metadata": {
  "kernelspec": {
   "name": "python2717jvsc74a57bd0767d51c1340bd893661ea55ea3124f6de3c7a262a8b4abca0554b478b1e2ff90",
   "display_name": "Python 2.7.17 64-bit"
  },
  "language_info": {
   "codemirror_mode": {
    "name": "ipython",
    "version": 2
   },
   "file_extension": ".py",
   "mimetype": "text/x-python",
   "name": "python",
   "nbconvert_exporter": "python",
   "pygments_lexer": "ipython2",
   "version": "2.7.17-final"
  },
  "metadata": {
   "interpreter": {
    "hash": "767d51c1340bd893661ea55ea3124f6de3c7a262a8b4abca0554b478b1e2ff90"
   }
  }
 },
 "nbformat": 4,
 "nbformat_minor": 2
}