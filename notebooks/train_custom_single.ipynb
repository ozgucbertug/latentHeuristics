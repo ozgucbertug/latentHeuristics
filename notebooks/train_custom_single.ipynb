{
 "cells": [
  {
   "cell_type": "code",
   "execution_count": 1,
   "metadata": {
    "collapsed": false
   },
   "outputs": [
    {
     "output_type": "stream",
     "name": "stdout",
     "text": [
      "WARNING:tensorflow:From /home/ozguc/.conda/envs/ml/lib/python2.7/site-packages/tensorflow/python/compat/compat.py:175: disable_resource_variables (from tensorflow.python.ops.variable_scope) is deprecated and will be removed in a future version.\n",
      "Instructions for updating:\n",
      "non-resource variables are not supported in the long term\n",
      "Scipy not supported!\n",
      "WARNING:tensorflow:From /home/ozguc/.conda/envs/ml/lib/python2.7/site-packages/tensorflow/python/framework/op_def_library.py:263: colocate_with (from tensorflow.python.framework.ops) is deprecated and will be removed in a future version.\n",
      "Instructions for updating:\n",
      "Colocations handled automatically by placer.\n"
     ]
    }
   ],
   "source": [
    "import os.path as osp\n",
    "import numpy as np\n",
    "import sys\n",
    "sys.path.append(\"/home/ozguc/GitHub\")\n",
    "\n",
    "from latentHeuristics.src.ae_templates import mlp_architecture_ala_iclr_18, default_train_params\n",
    "from latentHeuristics.src.autoencoder import Configuration as Conf\n",
    "from latentHeuristics.src.point_net_ae import PointNetAutoEncoder\n",
    "\n",
    "from latentHeuristics.src.in_out import snc_category_to_synth_id, create_dir, PointCloudDataSet, \\\n",
    "                                        load_all_point_clouds_under_folder\n",
    "\n",
    "from latentHeuristics.src.tf_utils import reset_tf_graph\n",
    "from latentHeuristics.src.general_utils import plot_3d_point_cloud"
   ]
  },
  {
   "cell_type": "code",
   "execution_count": 2,
   "metadata": {
    "collapsed": false
   },
   "outputs": [],
   "source": [
    "%load_ext autoreload\n",
    "%autoreload 2\n",
    "%matplotlib inline"
   ]
  },
  {
   "cell_type": "markdown",
   "metadata": {},
   "source": [
    "Define Basic Parameters"
   ]
  },
  {
   "cell_type": "code",
   "execution_count": 3,
   "metadata": {
    "collapsed": false
   },
   "outputs": [],
   "source": [
    "top_out_dir = '../out/model/'          # Use to save Neural-Net check-points etc.\n",
    "top_in_dir = '../ghData/data/' # Top-dir of where point-clouds are stored.\n",
    "\n",
    "experiment_name = 'custom_single'\n",
    "n_pc_points = 2048                # Number of points per model.\n",
    "bneck_size = 128                  # Bottleneck-AE size\n",
    "ae_loss = 'chamfer'                   # Loss to optimize: 'emd' or 'chamfer'\n",
    "class_name = \"custom_single\""
   ]
  },
  {
   "cell_type": "markdown",
   "metadata": {},
   "source": [
    "Load Point Clouds"
   ]
  },
  {
   "cell_type": "code",
   "execution_count": 4,
   "metadata": {
    "collapsed": false,
    "tags": []
   },
   "outputs": [
    {
     "output_type": "stream",
     "name": "stdout",
     "text": [
      "2187 pclouds were loaded. They belong in 1 shape-classes.\n"
     ]
    }
   ],
   "source": [
    "syn_id = snc_category_to_synth_id()[class_name]\n",
    "class_dir = osp.join(top_in_dir , syn_id)\n",
    "all_pc_data = load_all_point_clouds_under_folder(class_dir, n_threads=8, file_ending='.ply', verbose=True)"
   ]
  },
  {
   "cell_type": "markdown",
   "metadata": {},
   "source": [
    "Load default training parameters (some of which are listed below). For more details please print the configuration object.\n",
    "\n",
    "    'batch_size': 50   \n",
    "    \n",
    "    'denoising': False     (# by default AE is not denoising)\n",
    "\n",
    "    'learning_rate': 0.0005\n",
    "\n",
    "    'z_rotate': False      (# randomly rotate models of each batch)\n",
    "    \n",
    "    'loss_display_step': 1 (# display loss at end of these many epochs)\n",
    "    'saver_step': 10       (# over how many epochs to save neural-network)"
   ]
  },
  {
   "cell_type": "code",
   "execution_count": 5,
   "metadata": {
    "collapsed": true
   },
   "outputs": [],
   "source": [
    "train_params = default_train_params()"
   ]
  },
  {
   "cell_type": "code",
   "execution_count": 6,
   "metadata": {
    "collapsed": true
   },
   "outputs": [],
   "source": [
    "encoder, decoder, enc_args, dec_args = mlp_architecture_ala_iclr_18(n_pc_points, bneck_size)\n",
    "train_dir = create_dir(osp.join(top_out_dir, experiment_name))"
   ]
  },
  {
   "cell_type": "code",
   "execution_count": 7,
   "metadata": {
    "collapsed": false
   },
   "outputs": [],
   "source": [
    "conf = Conf(n_input = [n_pc_points, 3],\n",
    "            loss = ae_loss,\n",
    "            training_epochs = train_params['training_epochs'],\n",
    "            batch_size = train_params['batch_size'],\n",
    "            denoising = train_params['denoising'],\n",
    "            learning_rate = train_params['learning_rate'],\n",
    "            train_dir = train_dir,\n",
    "            loss_display_step = train_params['loss_display_step'],\n",
    "            saver_step = train_params['saver_step'],\n",
    "            z_rotate = train_params['z_rotate'],\n",
    "            encoder = encoder,\n",
    "            decoder = decoder,\n",
    "            encoder_args = enc_args,\n",
    "            decoder_args = dec_args\n",
    "           )\n",
    "conf.experiment_name = experiment_name\n",
    "conf.held_out_step = 5   # How often to evaluate/print out loss on \n",
    "                         # held_out data (if they are provided in ae.train() ).\n",
    "conf.save(osp.join(train_dir, 'configuration'))"
   ]
  },
  {
   "cell_type": "markdown",
   "metadata": {},
   "source": [
    "Load Pre-Trained AE Model"
   ]
  },
  {
   "cell_type": "code",
   "execution_count": 8,
   "metadata": {
    "collapsed": false
   },
   "outputs": [],
   "source": [
    "load_pre_trained_ae = False\n",
    "restore_epoch = 500\n",
    "if load_pre_trained_ae:\n",
    "    conf = Conf.load(train_dir + '/configuration')\n",
    "    reset_tf_graph()\n",
    "    ae = PointNetAutoEncoder(conf.experiment_name, conf)\n",
    "    ae.restore_model(conf.train_dir, epoch=restore_epoch)"
   ]
  },
  {
   "cell_type": "markdown",
   "metadata": {},
   "source": [
    "Build the AE Model"
   ]
  },
  {
   "cell_type": "code",
   "execution_count": 9,
   "metadata": {
    "collapsed": false
   },
   "outputs": [
    {
     "output_type": "stream",
     "name": "stdout",
     "text": [
      "Building Encoder\n",
      "WARNING:tensorflow:From /home/ozguc/.conda/envs/ml/lib/python2.7/site-packages/tflearn/initializations.py:110: __init__ (from tensorflow.python.ops.init_ops) is deprecated and will be removed in a future version.\n",
      "Instructions for updating:\n",
      "Use tf.initializers.variance_scaling instead with distribution=uniform to get equivalent behavior.\n",
      "encoder_conv_layer_0 conv params =  256 bnorm params =  128\n",
      "Tensor(\"custom_single_2/Relu:0\", shape=(?, 2048, 64), dtype=float32)\n",
      "output size: 131072 \n",
      "\n",
      "encoder_conv_layer_1 conv params =  8320 bnorm params =  256\n",
      "Tensor(\"custom_single_2/Relu_1:0\", shape=(?, 2048, 128), dtype=float32)\n",
      "output size: 262144 \n",
      "\n",
      "encoder_conv_layer_2 conv params =  16512 bnorm params =  256\n",
      "Tensor(\"custom_single_2/Relu_2:0\", shape=(?, 2048, 128), dtype=float32)\n",
      "output size: 262144 \n",
      "\n",
      "encoder_conv_layer_3 conv params =  33024 bnorm params =  512\n",
      "Tensor(\"custom_single_2/Relu_3:0\", shape=(?, 2048, 256), dtype=float32)\n",
      "output size: 524288 \n",
      "\n",
      "encoder_conv_layer_4 conv params =  32896 bnorm params =  256\n",
      "Tensor(\"custom_single_2/Relu_4:0\", shape=(?, 2048, 128), dtype=float32)\n",
      "output size: 262144 \n",
      "\n",
      "Tensor(\"custom_single_2/Max:0\", shape=(?, 128), dtype=float32)\n",
      "Building Decoder\n",
      "decoder_fc_0 FC params =  33024 Tensor(\"custom_single_2/Relu_5:0\", shape=(?, 256), dtype=float32)\n",
      "output size: 256 \n",
      "\n",
      "decoder_fc_1 FC params =  65792 Tensor(\"custom_single_2/Relu_6:0\", shape=(?, 256), dtype=float32)\n",
      "output size: 256 \n",
      "\n",
      "decoder_fc_2 FC params =  1579008 Tensor(\"custom_single_2/decoder_fc_2/BiasAdd:0\", shape=(?, 6144), dtype=float32)\n",
      "output size: 6144 \n",
      "\n",
      "WARNING:tensorflow:From /home/ozguc/.conda/envs/ml/lib/python2.7/site-packages/tensorflow/python/ops/math_ops.py:3066: to_int32 (from tensorflow.python.ops.math_ops) is deprecated and will be removed in a future version.\n",
      "Instructions for updating:\n",
      "Use tf.cast instead.\n",
      "WARNING:tensorflow:From /home/ozguc/.conda/envs/ml/lib/python2.7/site-packages/tensorflow/python/ops/math_grad.py:102: div (from tensorflow.python.ops.math_ops) is deprecated and will be removed in a future version.\n",
      "Instructions for updating:\n",
      "Deprecated in favor of operator or tf.math.divide.\n"
     ]
    }
   ],
   "source": [
    "if not load_pre_trained_ae:\n",
    "    reset_tf_graph()\n",
    "    ae = PointNetAutoEncoder(conf.experiment_name, conf)"
   ]
  },
  {
   "cell_type": "markdown",
   "metadata": {},
   "source": [
    "Train the AE Model"
   ]
  },
  {
   "cell_type": "code",
   "execution_count": 10,
   "metadata": {
    "collapsed": false,
    "tags": [
     "outputPrepend"
    ]
   },
   "outputs": [
    {
     "output_type": "stream",
     "name": "stdout",
     "text": [
      "00310407')\n",
      "('Epoch:', '0286', 'training time (minutes)=', '0.0376', 'loss=', '0.000332088')\n",
      "('Epoch:', '0287', 'training time (minutes)=', '0.0376', 'loss=', '0.000316501')\n",
      "('Epoch:', '0288', 'training time (minutes)=', '0.0376', 'loss=', '0.000302619')\n",
      "('Epoch:', '0289', 'training time (minutes)=', '0.0376', 'loss=', '0.000329635')\n",
      "('Epoch:', '0290', 'training time (minutes)=', '0.0376', 'loss=', '0.000314135')\n",
      "INFO:tensorflow:../out/model/custom_single/models.ckpt-290 is not in all_model_checkpoint_paths. Manually adding it.\n",
      "('Epoch:', '0291', 'training time (minutes)=', '0.0376', 'loss=', '0.000321800')\n",
      "('Epoch:', '0292', 'training time (minutes)=', '0.0377', 'loss=', '0.000404381')\n",
      "('Epoch:', '0293', 'training time (minutes)=', '0.0376', 'loss=', '0.000352623')\n",
      "('Epoch:', '0294', 'training time (minutes)=', '0.0377', 'loss=', '0.000321948')\n",
      "('Epoch:', '0295', 'training time (minutes)=', '0.0376', 'loss=', '0.000312498')\n",
      "('Epoch:', '0296', 'training time (minutes)=', '0.0377', 'loss=', '0.000349644')\n",
      "('Epoch:', '0297', 'training time (minutes)=', '0.0376', 'loss=', '0.000403433')\n",
      "('Epoch:', '0298', 'training time (minutes)=', '0.0376', 'loss=', '0.000339472')\n",
      "('Epoch:', '0299', 'training time (minutes)=', '0.0376', 'loss=', '0.000321181')\n",
      "('Epoch:', '0300', 'training time (minutes)=', '0.0376', 'loss=', '0.000322233')\n",
      "INFO:tensorflow:../out/model/custom_single/models.ckpt-300 is not in all_model_checkpoint_paths. Manually adding it.\n",
      "('Epoch:', '0301', 'training time (minutes)=', '0.0376', 'loss=', '0.000369028')\n",
      "('Epoch:', '0302', 'training time (minutes)=', '0.0376', 'loss=', '0.000306517')\n",
      "('Epoch:', '0303', 'training time (minutes)=', '0.0376', 'loss=', '0.000287672')\n",
      "('Epoch:', '0304', 'training time (minutes)=', '0.0376', 'loss=', '0.000318915')\n",
      "('Epoch:', '0305', 'training time (minutes)=', '0.0376', 'loss=', '0.000329760')\n",
      "('Epoch:', '0306', 'training time (minutes)=', '0.0376', 'loss=', '0.000419418')\n",
      "('Epoch:', '0307', 'training time (minutes)=', '0.0376', 'loss=', '0.000358594')\n",
      "('Epoch:', '0308', 'training time (minutes)=', '0.0377', 'loss=', '0.000358270')\n",
      "('Epoch:', '0309', 'training time (minutes)=', '0.0377', 'loss=', '0.000348126')\n",
      "('Epoch:', '0310', 'training time (minutes)=', '0.0376', 'loss=', '0.000314559')\n",
      "INFO:tensorflow:../out/model/custom_single/models.ckpt-310 is not in all_model_checkpoint_paths. Manually adding it.\n",
      "('Epoch:', '0311', 'training time (minutes)=', '0.0377', 'loss=', '0.000282607')\n",
      "('Epoch:', '0312', 'training time (minutes)=', '0.0376', 'loss=', '0.000293565')\n",
      "('Epoch:', '0313', 'training time (minutes)=', '0.0376', 'loss=', '0.000286634')\n",
      "('Epoch:', '0314', 'training time (minutes)=', '0.0376', 'loss=', '0.000314034')\n",
      "('Epoch:', '0315', 'training time (minutes)=', '0.0377', 'loss=', '0.000303486')\n",
      "('Epoch:', '0316', 'training time (minutes)=', '0.0376', 'loss=', '0.000313878')\n",
      "('Epoch:', '0317', 'training time (minutes)=', '0.0376', 'loss=', '0.000289682')\n",
      "('Epoch:', '0318', 'training time (minutes)=', '0.0376', 'loss=', '0.000306347')\n",
      "('Epoch:', '0319', 'training time (minutes)=', '0.0376', 'loss=', '0.000483480')\n",
      "('Epoch:', '0320', 'training time (minutes)=', '0.0376', 'loss=', '0.000460784')\n",
      "INFO:tensorflow:../out/model/custom_single/models.ckpt-320 is not in all_model_checkpoint_paths. Manually adding it.\n",
      "('Epoch:', '0321', 'training time (minutes)=', '0.0376', 'loss=', '0.000482389')\n",
      "('Epoch:', '0322', 'training time (minutes)=', '0.0377', 'loss=', '0.000395097')\n",
      "('Epoch:', '0323', 'training time (minutes)=', '0.0377', 'loss=', '0.000339128')\n",
      "('Epoch:', '0324', 'training time (minutes)=', '0.0376', 'loss=', '0.000330899')\n",
      "('Epoch:', '0325', 'training time (minutes)=', '0.0376', 'loss=', '0.000324432')\n",
      "('Epoch:', '0326', 'training time (minutes)=', '0.0376', 'loss=', '0.000308811')\n",
      "('Epoch:', '0327', 'training time (minutes)=', '0.0376', 'loss=', '0.000291034')\n",
      "('Epoch:', '0328', 'training time (minutes)=', '0.0376', 'loss=', '0.000288768')\n",
      "('Epoch:', '0329', 'training time (minutes)=', '0.0376', 'loss=', '0.000315524')\n",
      "('Epoch:', '0330', 'training time (minutes)=', '0.0376', 'loss=', '0.000327518')\n",
      "INFO:tensorflow:../out/model/custom_single/models.ckpt-330 is not in all_model_checkpoint_paths. Manually adding it.\n",
      "('Epoch:', '0331', 'training time (minutes)=', '0.0376', 'loss=', '0.000344990')\n",
      "('Epoch:', '0332', 'training time (minutes)=', '0.0377', 'loss=', '0.000343067')\n",
      "('Epoch:', '0333', 'training time (minutes)=', '0.0381', 'loss=', '0.000361901')\n",
      "('Epoch:', '0334', 'training time (minutes)=', '0.0421', 'loss=', '0.000361610')\n",
      "('Epoch:', '0335', 'training time (minutes)=', '0.0418', 'loss=', '0.000360070')\n",
      "('Epoch:', '0336', 'training time (minutes)=', '0.0407', 'loss=', '0.000301039')\n",
      "('Epoch:', '0337', 'training time (minutes)=', '0.0413', 'loss=', '0.000301190')\n",
      "('Epoch:', '0338', 'training time (minutes)=', '0.0425', 'loss=', '0.000283137')\n",
      "('Epoch:', '0339', 'training time (minutes)=', '0.0429', 'loss=', '0.000278704')\n",
      "('Epoch:', '0340', 'training time (minutes)=', '0.0413', 'loss=', '0.000349572')\n",
      "INFO:tensorflow:../out/model/custom_single/models.ckpt-340 is not in all_model_checkpoint_paths. Manually adding it.\n",
      "('Epoch:', '0341', 'training time (minutes)=', '0.0407', 'loss=', '0.000428884')\n",
      "('Epoch:', '0342', 'training time (minutes)=', '0.0412', 'loss=', '0.000455582')\n",
      "('Epoch:', '0343', 'training time (minutes)=', '0.0415', 'loss=', '0.000403466')\n",
      "('Epoch:', '0344', 'training time (minutes)=', '0.0417', 'loss=', '0.000301872')\n",
      "('Epoch:', '0345', 'training time (minutes)=', '0.0420', 'loss=', '0.000350214')\n",
      "('Epoch:', '0346', 'training time (minutes)=', '0.0413', 'loss=', '0.000349130')\n",
      "('Epoch:', '0347', 'training time (minutes)=', '0.0409', 'loss=', '0.000344213')\n",
      "('Epoch:', '0348', 'training time (minutes)=', '0.0409', 'loss=', '0.000352224')\n",
      "('Epoch:', '0349', 'training time (minutes)=', '0.0410', 'loss=', '0.000319294')\n",
      "('Epoch:', '0350', 'training time (minutes)=', '0.0420', 'loss=', '0.000317513')\n",
      "INFO:tensorflow:../out/model/custom_single/models.ckpt-350 is not in all_model_checkpoint_paths. Manually adding it.\n",
      "('Epoch:', '0351', 'training time (minutes)=', '0.0421', 'loss=', '0.000319034')\n",
      "('Epoch:', '0352', 'training time (minutes)=', '0.0415', 'loss=', '0.000301421')\n",
      "('Epoch:', '0353', 'training time (minutes)=', '0.0406', 'loss=', '0.000330610')\n",
      "('Epoch:', '0354', 'training time (minutes)=', '0.0410', 'loss=', '0.000294680')\n",
      "('Epoch:', '0355', 'training time (minutes)=', '0.0411', 'loss=', '0.000289482')\n",
      "('Epoch:', '0356', 'training time (minutes)=', '0.0416', 'loss=', '0.000324929')\n",
      "('Epoch:', '0357', 'training time (minutes)=', '0.0421', 'loss=', '0.000345864')\n",
      "('Epoch:', '0358', 'training time (minutes)=', '0.0416', 'loss=', '0.000334128')\n",
      "('Epoch:', '0359', 'training time (minutes)=', '0.0413', 'loss=', '0.000534499')\n",
      "('Epoch:', '0360', 'training time (minutes)=', '0.0411', 'loss=', '0.000372041')\n",
      "INFO:tensorflow:../out/model/custom_single/models.ckpt-360 is not in all_model_checkpoint_paths. Manually adding it.\n",
      "('Epoch:', '0361', 'training time (minutes)=', '0.0410', 'loss=', '0.000309766')\n",
      "('Epoch:', '0362', 'training time (minutes)=', '0.0413', 'loss=', '0.000298947')\n",
      "('Epoch:', '0363', 'training time (minutes)=', '0.0421', 'loss=', '0.000336391')\n",
      "('Epoch:', '0364', 'training time (minutes)=', '0.0418', 'loss=', '0.000280774')\n",
      "('Epoch:', '0365', 'training time (minutes)=', '0.0411', 'loss=', '0.000311439')\n",
      "('Epoch:', '0366', 'training time (minutes)=', '0.0410', 'loss=', '0.000332666')\n",
      "('Epoch:', '0367', 'training time (minutes)=', '0.0410', 'loss=', '0.000323625')\n",
      "('Epoch:', '0368', 'training time (minutes)=', '0.0411', 'loss=', '0.000318490')\n",
      "('Epoch:', '0369', 'training time (minutes)=', '0.0419', 'loss=', '0.000281916')\n",
      "('Epoch:', '0370', 'training time (minutes)=', '0.0419', 'loss=', '0.000287237')\n",
      "INFO:tensorflow:../out/model/custom_single/models.ckpt-370 is not in all_model_checkpoint_paths. Manually adding it.\n",
      "('Epoch:', '0371', 'training time (minutes)=', '0.0410', 'loss=', '0.000318528')\n",
      "('Epoch:', '0372', 'training time (minutes)=', '0.0408', 'loss=', '0.000304411')\n",
      "('Epoch:', '0373', 'training time (minutes)=', '0.0409', 'loss=', '0.000407324')\n",
      "('Epoch:', '0374', 'training time (minutes)=', '0.0413', 'loss=', '0.000417632')\n",
      "('Epoch:', '0375', 'training time (minutes)=', '0.0421', 'loss=', '0.000372444')\n",
      "('Epoch:', '0376', 'training time (minutes)=', '0.0420', 'loss=', '0.000375230')\n",
      "('Epoch:', '0377', 'training time (minutes)=', '0.0409', 'loss=', '0.000399607')\n",
      "('Epoch:', '0378', 'training time (minutes)=', '0.0408', 'loss=', '0.000297065')\n",
      "('Epoch:', '0379', 'training time (minutes)=', '0.0412', 'loss=', '0.000296016')\n",
      "('Epoch:', '0380', 'training time (minutes)=', '0.0413', 'loss=', '0.000287846')\n",
      "INFO:tensorflow:../out/model/custom_single/models.ckpt-380 is not in all_model_checkpoint_paths. Manually adding it.\n",
      "('Epoch:', '0381', 'training time (minutes)=', '0.0417', 'loss=', '0.000285820')\n",
      "('Epoch:', '0382', 'training time (minutes)=', '0.0419', 'loss=', '0.000318260')\n",
      "('Epoch:', '0383', 'training time (minutes)=', '0.0414', 'loss=', '0.000281934')\n",
      "('Epoch:', '0384', 'training time (minutes)=', '0.0411', 'loss=', '0.000278667')\n",
      "('Epoch:', '0385', 'training time (minutes)=', '0.0411', 'loss=', '0.000306097')\n",
      "('Epoch:', '0386', 'training time (minutes)=', '0.0410', 'loss=', '0.000279656')\n",
      "('Epoch:', '0387', 'training time (minutes)=', '0.0415', 'loss=', '0.000290730')\n",
      "('Epoch:', '0388', 'training time (minutes)=', '0.0421', 'loss=', '0.000287019')\n",
      "('Epoch:', '0389', 'training time (minutes)=', '0.0414', 'loss=', '0.000293340')\n",
      "('Epoch:', '0390', 'training time (minutes)=', '0.0410', 'loss=', '0.000273629')\n",
      "INFO:tensorflow:../out/model/custom_single/models.ckpt-390 is not in all_model_checkpoint_paths. Manually adding it.\n",
      "('Epoch:', '0391', 'training time (minutes)=', '0.0409', 'loss=', '0.000268579')\n",
      "('Epoch:', '0392', 'training time (minutes)=', '0.0409', 'loss=', '0.000278631')\n",
      "('Epoch:', '0393', 'training time (minutes)=', '0.0417', 'loss=', '0.000292642')\n",
      "('Epoch:', '0394', 'training time (minutes)=', '0.0420', 'loss=', '0.000334640')\n",
      "('Epoch:', '0395', 'training time (minutes)=', '0.0416', 'loss=', '0.000368597')\n",
      "('Epoch:', '0396', 'training time (minutes)=', '0.0408', 'loss=', '0.000297485')\n",
      "('Epoch:', '0397', 'training time (minutes)=', '0.0408', 'loss=', '0.000292737')\n",
      "('Epoch:', '0398', 'training time (minutes)=', '0.0410', 'loss=', '0.000267733')\n",
      "('Epoch:', '0399', 'training time (minutes)=', '0.0418', 'loss=', '0.000274727')\n",
      "('Epoch:', '0400', 'training time (minutes)=', '0.0422', 'loss=', '0.000270427')\n",
      "INFO:tensorflow:../out/model/custom_single/models.ckpt-400 is not in all_model_checkpoint_paths. Manually adding it.\n",
      "('Epoch:', '0401', 'training time (minutes)=', '0.0415', 'loss=', '0.000281507')\n",
      "('Epoch:', '0402', 'training time (minutes)=', '0.0408', 'loss=', '0.000341436')\n",
      "('Epoch:', '0403', 'training time (minutes)=', '0.0409', 'loss=', '0.000426223')\n",
      "('Epoch:', '0404', 'training time (minutes)=', '0.0411', 'loss=', '0.000349938')\n",
      "('Epoch:', '0405', 'training time (minutes)=', '0.0413', 'loss=', '0.000287053')\n",
      "('Epoch:', '0406', 'training time (minutes)=', '0.0420', 'loss=', '0.000271326')\n",
      "('Epoch:', '0407', 'training time (minutes)=', '0.0420', 'loss=', '0.000277535')\n",
      "('Epoch:', '0408', 'training time (minutes)=', '0.0412', 'loss=', '0.000273332')\n",
      "('Epoch:', '0409', 'training time (minutes)=', '0.0411', 'loss=', '0.000292850')\n",
      "('Epoch:', '0410', 'training time (minutes)=', '0.0411', 'loss=', '0.000283518')\n",
      "INFO:tensorflow:../out/model/custom_single/models.ckpt-410 is not in all_model_checkpoint_paths. Manually adding it.\n",
      "('Epoch:', '0411', 'training time (minutes)=', '0.0411', 'loss=', '0.000307701')\n",
      "('Epoch:', '0412', 'training time (minutes)=', '0.0421', 'loss=', '0.000299004')\n",
      "('Epoch:', '0413', 'training time (minutes)=', '0.0421', 'loss=', '0.000286332')\n",
      "('Epoch:', '0414', 'training time (minutes)=', '0.0413', 'loss=', '0.000311850')\n",
      "('Epoch:', '0415', 'training time (minutes)=', '0.0411', 'loss=', '0.000389584')\n",
      "('Epoch:', '0416', 'training time (minutes)=', '0.0410', 'loss=', '0.000321967')\n",
      "('Epoch:', '0417', 'training time (minutes)=', '0.0419', 'loss=', '0.000305023')\n",
      "('Epoch:', '0418', 'training time (minutes)=', '0.0419', 'loss=', '0.000277537')\n",
      "('Epoch:', '0419', 'training time (minutes)=', '0.0422', 'loss=', '0.000282758')\n",
      "('Epoch:', '0420', 'training time (minutes)=', '0.0411', 'loss=', '0.000296333')\n",
      "INFO:tensorflow:../out/model/custom_single/models.ckpt-420 is not in all_model_checkpoint_paths. Manually adding it.\n",
      "('Epoch:', '0421', 'training time (minutes)=', '0.0408', 'loss=', '0.000391257')\n",
      "('Epoch:', '0422', 'training time (minutes)=', '0.0411', 'loss=', '0.000354541')\n",
      "('Epoch:', '0423', 'training time (minutes)=', '0.0413', 'loss=', '0.000295786')\n",
      "('Epoch:', '0424', 'training time (minutes)=', '0.0421', 'loss=', '0.000289504')\n",
      "('Epoch:', '0425', 'training time (minutes)=', '0.0421', 'loss=', '0.000277578')\n",
      "('Epoch:', '0426', 'training time (minutes)=', '0.0411', 'loss=', '0.000281644')\n",
      "('Epoch:', '0427', 'training time (minutes)=', '0.0406', 'loss=', '0.000267628')\n",
      "('Epoch:', '0428', 'training time (minutes)=', '0.0410', 'loss=', '0.000297827')\n",
      "('Epoch:', '0429', 'training time (minutes)=', '0.0411', 'loss=', '0.000288805')\n",
      "('Epoch:', '0430', 'training time (minutes)=', '0.0415', 'loss=', '0.000286628')\n",
      "INFO:tensorflow:../out/model/custom_single/models.ckpt-430 is not in all_model_checkpoint_paths. Manually adding it.\n",
      "('Epoch:', '0431', 'training time (minutes)=', '0.0420', 'loss=', '0.000261394')\n",
      "('Epoch:', '0432', 'training time (minutes)=', '0.0415', 'loss=', '0.000358858')\n",
      "('Epoch:', '0433', 'training time (minutes)=', '0.0410', 'loss=', '0.000297322')\n",
      "('Epoch:', '0434', 'training time (minutes)=', '0.0412', 'loss=', '0.000282720')\n",
      "('Epoch:', '0435', 'training time (minutes)=', '0.0411', 'loss=', '0.000272525')\n",
      "('Epoch:', '0436', 'training time (minutes)=', '0.0415', 'loss=', '0.000271667')\n",
      "('Epoch:', '0437', 'training time (minutes)=', '0.0421', 'loss=', '0.000338239')\n",
      "('Epoch:', '0438', 'training time (minutes)=', '0.0417', 'loss=', '0.000318891')\n",
      "('Epoch:', '0439', 'training time (minutes)=', '0.0410', 'loss=', '0.000263663')\n",
      "('Epoch:', '0440', 'training time (minutes)=', '0.0410', 'loss=', '0.000284002')\n",
      "INFO:tensorflow:../out/model/custom_single/models.ckpt-440 is not in all_model_checkpoint_paths. Manually adding it.\n",
      "('Epoch:', '0441', 'training time (minutes)=', '0.0408', 'loss=', '0.000279173')\n",
      "('Epoch:', '0442', 'training time (minutes)=', '0.0415', 'loss=', '0.000292235')\n",
      "('Epoch:', '0443', 'training time (minutes)=', '0.0422', 'loss=', '0.000288510')\n",
      "('Epoch:', '0444', 'training time (minutes)=', '0.0418', 'loss=', '0.000266141')\n",
      "('Epoch:', '0445', 'training time (minutes)=', '0.0407', 'loss=', '0.000332144')\n",
      "('Epoch:', '0446', 'training time (minutes)=', '0.0408', 'loss=', '0.000352749')\n",
      "('Epoch:', '0447', 'training time (minutes)=', '0.0410', 'loss=', '0.000296551')\n",
      "('Epoch:', '0448', 'training time (minutes)=', '0.0417', 'loss=', '0.000296685')\n",
      "('Epoch:', '0449', 'training time (minutes)=', '0.0429', 'loss=', '0.000290177')\n",
      "('Epoch:', '0450', 'training time (minutes)=', '0.0417', 'loss=', '0.000292071')\n",
      "INFO:tensorflow:../out/model/custom_single/models.ckpt-450 is not in all_model_checkpoint_paths. Manually adding it.\n",
      "('Epoch:', '0451', 'training time (minutes)=', '0.0409', 'loss=', '0.000285414')\n",
      "('Epoch:', '0452', 'training time (minutes)=', '0.0408', 'loss=', '0.000282455')\n",
      "('Epoch:', '0453', 'training time (minutes)=', '0.0412', 'loss=', '0.000343021')\n",
      "('Epoch:', '0454', 'training time (minutes)=', '0.0411', 'loss=', '0.000305000')\n",
      "('Epoch:', '0455', 'training time (minutes)=', '0.0418', 'loss=', '0.000261622')\n",
      "('Epoch:', '0456', 'training time (minutes)=', '0.0421', 'loss=', '0.000254148')\n",
      "('Epoch:', '0457', 'training time (minutes)=', '0.0413', 'loss=', '0.000268006')\n",
      "('Epoch:', '0458', 'training time (minutes)=', '0.0410', 'loss=', '0.000268746')\n",
      "('Epoch:', '0459', 'training time (minutes)=', '0.0410', 'loss=', '0.000319475')\n",
      "('Epoch:', '0460', 'training time (minutes)=', '0.0410', 'loss=', '0.000265628')\n",
      "INFO:tensorflow:../out/model/custom_single/models.ckpt-460 is not in all_model_checkpoint_paths. Manually adding it.\n",
      "('Epoch:', '0461', 'training time (minutes)=', '0.0417', 'loss=', '0.000292205')\n",
      "('Epoch:', '0462', 'training time (minutes)=', '0.0421', 'loss=', '0.000275758')\n",
      "('Epoch:', '0463', 'training time (minutes)=', '0.0414', 'loss=', '0.000261604')\n",
      "('Epoch:', '0464', 'training time (minutes)=', '0.0410', 'loss=', '0.000282352')\n",
      "('Epoch:', '0465', 'training time (minutes)=', '0.0410', 'loss=', '0.000313600')\n",
      "('Epoch:', '0466', 'training time (minutes)=', '0.0412', 'loss=', '0.000278336')\n",
      "('Epoch:', '0467', 'training time (minutes)=', '0.0416', 'loss=', '0.000274332')\n",
      "('Epoch:', '0468', 'training time (minutes)=', '0.0424', 'loss=', '0.000274223')\n",
      "('Epoch:', '0469', 'training time (minutes)=', '0.0415', 'loss=', '0.000324902')\n",
      "('Epoch:', '0470', 'training time (minutes)=', '0.0408', 'loss=', '0.000352274')\n",
      "INFO:tensorflow:../out/model/custom_single/models.ckpt-470 is not in all_model_checkpoint_paths. Manually adding it.\n",
      "('Epoch:', '0471', 'training time (minutes)=', '0.0411', 'loss=', '0.000325333')\n",
      "('Epoch:', '0472', 'training time (minutes)=', '0.0413', 'loss=', '0.000279129')\n",
      "('Epoch:', '0473', 'training time (minutes)=', '0.0414', 'loss=', '0.000276055')\n",
      "('Epoch:', '0474', 'training time (minutes)=', '0.0420', 'loss=', '0.000253246')\n",
      "('Epoch:', '0475', 'training time (minutes)=', '0.0417', 'loss=', '0.000268825')\n",
      "('Epoch:', '0476', 'training time (minutes)=', '0.0407', 'loss=', '0.000278864')\n",
      "('Epoch:', '0477', 'training time (minutes)=', '0.0411', 'loss=', '0.000289290')\n",
      "('Epoch:', '0478', 'training time (minutes)=', '0.0410', 'loss=', '0.000292032')\n",
      "('Epoch:', '0479', 'training time (minutes)=', '0.0414', 'loss=', '0.000278963')\n",
      "('Epoch:', '0480', 'training time (minutes)=', '0.0421', 'loss=', '0.000298231')\n",
      "INFO:tensorflow:../out/model/custom_single/models.ckpt-480 is not in all_model_checkpoint_paths. Manually adding it.\n",
      "('Epoch:', '0481', 'training time (minutes)=', '0.0419', 'loss=', '0.000274313')\n",
      "('Epoch:', '0482', 'training time (minutes)=', '0.0411', 'loss=', '0.000269252')\n",
      "('Epoch:', '0483', 'training time (minutes)=', '0.0411', 'loss=', '0.000255869')\n",
      "('Epoch:', '0484', 'training time (minutes)=', '0.0410', 'loss=', '0.000270391')\n",
      "('Epoch:', '0485', 'training time (minutes)=', '0.0411', 'loss=', '0.000311300')\n",
      "('Epoch:', '0486', 'training time (minutes)=', '0.0420', 'loss=', '0.000291643')\n",
      "('Epoch:', '0487', 'training time (minutes)=', '0.0422', 'loss=', '0.000261976')\n",
      "('Epoch:', '0488', 'training time (minutes)=', '0.0412', 'loss=', '0.000269773')\n",
      "('Epoch:', '0489', 'training time (minutes)=', '0.0410', 'loss=', '0.000314767')\n",
      "('Epoch:', '0490', 'training time (minutes)=', '0.0409', 'loss=', '0.000277214')\n",
      "INFO:tensorflow:../out/model/custom_single/models.ckpt-490 is not in all_model_checkpoint_paths. Manually adding it.\n",
      "('Epoch:', '0491', 'training time (minutes)=', '0.0412', 'loss=', '0.000292471')\n",
      "('Epoch:', '0492', 'training time (minutes)=', '0.0423', 'loss=', '0.000280995')\n",
      "('Epoch:', '0493', 'training time (minutes)=', '0.0421', 'loss=', '0.000311028')\n",
      "('Epoch:', '0494', 'training time (minutes)=', '0.0409', 'loss=', '0.000305521')\n",
      "('Epoch:', '0495', 'training time (minutes)=', '0.0408', 'loss=', '0.000273062')\n",
      "('Epoch:', '0496', 'training time (minutes)=', '0.0411', 'loss=', '0.000293387')\n",
      "('Epoch:', '0497', 'training time (minutes)=', '0.0411', 'loss=', '0.000274019')\n",
      "('Epoch:', '0498', 'training time (minutes)=', '0.0418', 'loss=', '0.000323653')\n",
      "('Epoch:', '0499', 'training time (minutes)=', '0.0419', 'loss=', '0.000350606')\n",
      "('Epoch:', '0500', 'training time (minutes)=', '0.0412', 'loss=', '0.000299356')\n",
      "INFO:tensorflow:../out/model/custom_single/models.ckpt-500 is not in all_model_checkpoint_paths. Manually adding it.\n"
     ]
    }
   ],
   "source": [
    "if not load_pre_trained_ae:\n",
    "    buf_size = 1 # Make 'training_stats' file to flush each output line regarding training.\n",
    "    fout = open(osp.join(conf.train_dir, 'train_stats.txt'), 'a', buf_size)\n",
    "    train_stats = ae.train(all_pc_data, conf, log_file=fout)\n",
    "    fout.close()"
   ]
  },
  {
   "source": [
    "# Export"
   ],
   "cell_type": "markdown",
   "metadata": {}
  },
  {
   "source": [
    "Define Export parameters"
   ],
   "cell_type": "markdown",
   "metadata": {}
  },
  {
   "cell_type": "code",
   "execution_count": 13,
   "metadata": {},
   "outputs": [],
   "source": [
    "from plyfile import PlyData, PlyElement\n",
    "\n",
    "def write_ply(points, filename, text=True):\n",
    "    points = [(points[i,0], points[i,1], points[i,2]) for i in range(points.shape[0])]\n",
    "    vertex = np.array(points, dtype=[('x', 'f4'), ('y', 'f4'),('z', 'f4')])\n",
    "    el = PlyElement.describe(vertex, 'vertex', comments=['vertices'])\n",
    "    PlyData([el], text=text).write(filename)\n",
    "\n",
    "out_dir = \"/home/ozguc/GitHub/latentHeuristics/out\"\n",
    "\n",
    "export_latent = True\n",
    "export_reconstruct = True\n",
    "export_interpolate = False"
   ]
  },
  {
   "cell_type": "markdown",
   "metadata": {},
   "source": [
    "Export all latent vectors and labels to csv file"
   ]
  },
  {
   "cell_type": "code",
   "execution_count": 14,
   "metadata": {},
   "outputs": [
    {
     "output_type": "stream",
     "name": "stdout",
     "text": [
      "/home/ozguc/GitHub/latentHeuristics/out/csv/custom_single_all_latent_vectors.csv saved!\n/home/ozguc/GitHub/latentHeuristics/out/csv/custom_single_all_labels.csv saved!\n"
     ]
    }
   ],
   "source": [
    "if export_latent:\n",
    "    all_latent_vectors = np.zeros((len(all_pc_data.point_clouds),128))\n",
    "\n",
    "    for i in range(len(all_pc_data.point_clouds)):\n",
    "        pc = all_pc_data.point_clouds[i].reshape((1,2048,3))\n",
    "        all_latent_vectors[i] = ae.transform(pc)\n",
    "\n",
    "    if not os.path.exists(out_dir+\"/csv\"):\n",
    "            os.makedirs(out_dir+\"/csv\")\n",
    "\n",
    "    vector_fn = out_dir+\"/csv/\"+experiment_name+\"_all_latent_vectors.csv\"\n",
    "    np.savetxt(vector_fn, all_latent_vectors, delimiter=',')\n",
    "    print(vector_fn+\" saved!\")\n",
    "\n",
    "    label_fn = out_dir+\"/csv/\"+experiment_name+\"_all_labels.csv\"\n",
    "    np.savetxt(label_fn,all_pc_data.labels.reshape((len(all_pc_data.labels,))), delimiter=',', fmt='%s')\n",
    "    print(label_fn+\" saved!\")"
   ]
  },
  {
   "source": [
    "Export reconstructed point clouds to ply file"
   ],
   "cell_type": "markdown",
   "metadata": {}
  },
  {
   "cell_type": "code",
   "execution_count": 15,
   "metadata": {
    "tags": [
     "outputPrepend"
    ]
   },
   "outputs": [
    {
     "output_type": "stream",
     "name": "stdout",
     "text": [
      "ed!\n",
      "/home/ozguc/GitHub/latentHeuristics/out/ply/reconstruct/custom_single/00000000_50_25_25_45_7_45_15_reconstructed.ply saved!\n",
      "/home/ozguc/GitHub/latentHeuristics/out/ply/reconstruct/custom_single/00000000_50_17_35_45_35_5_17_reconstructed.ply saved!\n",
      "/home/ozguc/GitHub/latentHeuristics/out/ply/reconstruct/custom_single/00000000_100_35_35_50_4_10_8_reconstructed.ply saved!\n",
      "/home/ozguc/GitHub/latentHeuristics/out/ply/reconstruct/custom_single/00000000_75_15_15_67_30_67_15_reconstructed.ply saved!\n",
      "/home/ozguc/GitHub/latentHeuristics/out/ply/reconstruct/custom_single/00000000_100_50_75_10_100_90_50_reconstructed.ply saved!\n",
      "/home/ozguc/GitHub/latentHeuristics/out/ply/reconstruct/custom_single/00000000_75_26_52_37_20_37_16_reconstructed.ply saved!\n",
      "/home/ozguc/GitHub/latentHeuristics/out/ply/reconstruct/custom_single/00000000_75_15_22_37_7_7_3_reconstructed.ply saved!\n",
      "/home/ozguc/GitHub/latentHeuristics/out/ply/reconstruct/custom_single/00000000_100_50_75_10_62_90_31_reconstructed.ply saved!\n",
      "/home/ozguc/GitHub/latentHeuristics/out/ply/reconstruct/custom_single/00000000_100_35_70_10_17_50_35_reconstructed.ply saved!\n",
      "/home/ozguc/GitHub/latentHeuristics/out/ply/reconstruct/custom_single/00000000_75_15_22_67_4_37_9_reconstructed.ply saved!\n",
      "/home/ozguc/GitHub/latentHeuristics/out/ply/reconstruct/custom_single/00000000_75_15_15_67_18_37_15_reconstructed.ply saved!\n",
      "/home/ozguc/GitHub/latentHeuristics/out/ply/reconstruct/custom_single/00000000_100_35_70_90_17_50_35_reconstructed.ply saved!\n",
      "/home/ozguc/GitHub/latentHeuristics/out/ply/reconstruct/custom_single/00000000_75_15_30_37_11_7_9_reconstructed.ply saved!\n",
      "/home/ozguc/GitHub/latentHeuristics/out/ply/reconstruct/custom_single/00000000_100_50_75_10_62_10_50_reconstructed.ply saved!\n",
      "/home/ozguc/GitHub/latentHeuristics/out/ply/reconstruct/custom_single/00000000_100_35_70_90_10_90_8_reconstructed.ply saved!\n",
      "/home/ozguc/GitHub/latentHeuristics/out/ply/reconstruct/custom_single/00000000_75_26_26_7_8_7_16_reconstructed.ply saved!\n",
      "/home/ozguc/GitHub/latentHeuristics/out/ply/reconstruct/custom_single/00000000_100_35_70_50_10_50_21_reconstructed.ply saved!\n",
      "/home/ozguc/GitHub/latentHeuristics/out/ply/reconstruct/custom_single/00000000_100_35_70_90_10_90_21_reconstructed.ply saved!\n",
      "/home/ozguc/GitHub/latentHeuristics/out/ply/reconstruct/custom_single/00000000_75_15_22_67_7_67_3_reconstructed.ply saved!\n",
      "/home/ozguc/GitHub/latentHeuristics/out/ply/reconstruct/custom_single/00000000_75_37_56_37_11_67_23_reconstructed.ply saved!\n",
      "/home/ozguc/GitHub/latentHeuristics/out/ply/reconstruct/custom_single/00000000_100_50_100_50_100_90_50_reconstructed.ply saved!\n",
      "/home/ozguc/GitHub/latentHeuristics/out/ply/reconstruct/custom_single/00000000_50_10_20_5_12_5_10_reconstructed.ply saved!\n",
      "/home/ozguc/GitHub/latentHeuristics/out/ply/reconstruct/custom_single/00000000_75_37_75_7_11_7_23_reconstructed.ply saved!\n",
      "/home/ozguc/GitHub/latentHeuristics/out/ply/reconstruct/custom_single/00000000_100_35_52_90_4_90_8_reconstructed.ply saved!\n",
      "/home/ozguc/GitHub/latentHeuristics/out/ply/reconstruct/custom_single/00000000_75_15_15_67_11_37_9_reconstructed.ply saved!\n",
      "/home/ozguc/GitHub/latentHeuristics/out/ply/reconstruct/custom_single/00000000_100_50_75_90_15_90_31_reconstructed.ply saved!\n",
      "/home/ozguc/GitHub/latentHeuristics/out/ply/reconstruct/custom_single/00000000_100_20_30_10_6_90_12_reconstructed.ply saved!\n",
      "/home/ozguc/GitHub/latentHeuristics/out/ply/reconstruct/custom_single/00000000_75_37_37_7_4_67_9_reconstructed.ply saved!\n",
      "/home/ozguc/GitHub/latentHeuristics/out/ply/reconstruct/custom_single/00000000_50_25_25_5_50_5_25_reconstructed.ply saved!\n",
      "/home/ozguc/GitHub/latentHeuristics/out/ply/reconstruct/custom_single/00000000_50_10_10_5_5_45_2_reconstructed.ply saved!\n",
      "/home/ozguc/GitHub/latentHeuristics/out/ply/reconstruct/custom_single/00000000_75_26_26_67_32_67_16_reconstructed.ply saved!\n",
      "/home/ozguc/GitHub/latentHeuristics/out/ply/reconstruct/custom_single/00000000_50_17_35_5_21_25_17_reconstructed.ply saved!\n",
      "/home/ozguc/GitHub/latentHeuristics/out/ply/reconstruct/custom_single/00000000_100_35_52_50_4_10_8_reconstructed.ply saved!\n",
      "/home/ozguc/GitHub/latentHeuristics/out/ply/reconstruct/custom_single/00000000_50_17_17_25_8_5_4_reconstructed.ply saved!\n",
      "/home/ozguc/GitHub/latentHeuristics/out/ply/reconstruct/custom_single/00000000_50_25_37_45_3_45_6_reconstructed.ply saved!\n",
      "/home/ozguc/GitHub/latentHeuristics/out/ply/reconstruct/custom_single/00000000_100_50_75_90_100_90_50_reconstructed.ply saved!\n",
      "/home/ozguc/GitHub/latentHeuristics/out/ply/reconstruct/custom_single/00000000_100_20_20_90_40_50_20_reconstructed.ply saved!\n",
      "/home/ozguc/GitHub/latentHeuristics/out/ply/reconstruct/custom_single/00000000_100_20_40_50_25_10_12_reconstructed.ply saved!\n",
      "/home/ozguc/GitHub/latentHeuristics/out/ply/reconstruct/custom_single/00000000_50_25_25_5_12_45_6_reconstructed.ply saved!\n",
      "/home/ozguc/GitHub/latentHeuristics/out/ply/reconstruct/custom_single/00000000_75_15_15_7_4_67_3_reconstructed.ply saved!\n",
      "/home/ozguc/GitHub/latentHeuristics/out/ply/reconstruct/custom_single/00000000_50_25_50_45_12_25_25_reconstructed.ply saved!\n",
      "/home/ozguc/GitHub/latentHeuristics/out/ply/reconstruct/custom_single/00000000_75_26_52_7_3_37_6_reconstructed.ply saved!\n",
      "/home/ozguc/GitHub/latentHeuristics/out/ply/reconstruct/custom_single/00000000_75_37_75_67_4_7_9_reconstructed.ply saved!\n",
      "/home/ozguc/GitHub/latentHeuristics/out/ply/reconstruct/custom_single/00000000_50_25_37_45_7_25_15_reconstructed.ply saved!\n",
      "/home/ozguc/GitHub/latentHeuristics/out/ply/reconstruct/custom_single/00000000_100_50_75_90_15_90_12_reconstructed.ply saved!\n",
      "/home/ozguc/GitHub/latentHeuristics/out/ply/reconstruct/custom_single/00000000_50_25_37_45_7_5_15_reconstructed.ply saved!\n",
      "/home/ozguc/GitHub/latentHeuristics/out/ply/reconstruct/custom_single/00000000_75_15_30_7_30_67_15_reconstructed.ply saved!\n",
      "/home/ozguc/GitHub/latentHeuristics/out/ply/reconstruct/custom_single/00000000_75_37_56_37_46_7_23_reconstructed.ply saved!\n",
      "/home/ozguc/GitHub/latentHeuristics/out/ply/reconstruct/custom_single/00000000_75_37_56_67_29_7_23_reconstructed.ply saved!\n",
      "/home/ozguc/GitHub/latentHeuristics/out/ply/reconstruct/custom_single/00000000_75_26_39_37_13_37_6_reconstructed.ply saved!\n",
      "/home/ozguc/GitHub/latentHeuristics/out/ply/reconstruct/custom_single/00000000_50_17_35_45_35_45_17_reconstructed.ply saved!\n",
      "/home/ozguc/GitHub/latentHeuristics/out/ply/reconstruct/custom_single/00000000_75_26_26_67_20_7_16_reconstructed.ply saved!\n",
      "/home/ozguc/GitHub/latentHeuristics/out/ply/reconstruct/custom_single/00000000_50_25_37_25_19_5_15_reconstructed.ply saved!\n",
      "/home/ozguc/GitHub/latentHeuristics/out/ply/reconstruct/custom_single/00000000_75_26_52_67_8_67_6_reconstructed.ply saved!\n",
      "/home/ozguc/GitHub/latentHeuristics/out/ply/reconstruct/custom_single/00000000_75_26_26_7_52_37_26_reconstructed.ply saved!\n",
      "/home/ozguc/GitHub/latentHeuristics/out/ply/reconstruct/custom_single/00000000_100_50_100_90_6_50_12_reconstructed.ply saved!\n",
      "/home/ozguc/GitHub/latentHeuristics/out/ply/reconstruct/custom_single/00000000_75_37_37_37_11_37_23_reconstructed.ply saved!\n",
      "/home/ozguc/GitHub/latentHeuristics/out/ply/reconstruct/custom_single/00000000_100_35_70_50_43_10_21_reconstructed.ply saved!\n",
      "/home/ozguc/GitHub/latentHeuristics/out/ply/reconstruct/custom_single/00000000_50_10_10_25_7_25_6_reconstructed.ply saved!\n",
      "/home/ozguc/GitHub/latentHeuristics/out/ply/reconstruct/custom_single/00000000_50_25_37_5_31_5_15_reconstructed.ply saved!\n",
      "/home/ozguc/GitHub/latentHeuristics/out/ply/reconstruct/custom_single/00000000_50_17_17_25_13_25_10_reconstructed.ply saved!\n",
      "/home/ozguc/GitHub/latentHeuristics/out/ply/reconstruct/custom_single/00000000_100_50_75_10_15_10_31_reconstructed.ply saved!\n",
      "/home/ozguc/GitHub/latentHeuristics/out/ply/reconstruct/custom_single/00000000_50_10_10_5_1_5_2_reconstructed.ply saved!\n",
      "/home/ozguc/GitHub/latentHeuristics/out/ply/reconstruct/custom_single/00000000_50_25_50_45_7_5_6_reconstructed.ply saved!\n",
      "/home/ozguc/GitHub/latentHeuristics/out/ply/reconstruct/custom_single/00000000_100_35_70_10_17_10_8_reconstructed.ply saved!\n",
      "/home/ozguc/GitHub/latentHeuristics/out/ply/reconstruct/custom_single/00000000_100_20_20_90_6_10_12_reconstructed.ply saved!\n",
      "/home/ozguc/GitHub/latentHeuristics/out/ply/reconstruct/custom_single/00000000_75_37_37_7_46_67_37_reconstructed.ply saved!\n",
      "/home/ozguc/GitHub/latentHeuristics/out/ply/reconstruct/custom_single/00000000_50_17_17_25_2_5_4_reconstructed.ply saved!\n",
      "/home/ozguc/GitHub/latentHeuristics/out/ply/reconstruct/custom_single/00000000_50_17_17_25_8_25_17_reconstructed.ply saved!\n",
      "/home/ozguc/GitHub/latentHeuristics/out/ply/reconstruct/custom_single/00000000_100_50_50_50_15_50_12_reconstructed.ply saved!\n",
      "/home/ozguc/GitHub/latentHeuristics/out/ply/reconstruct/custom_single/00000000_100_50_75_50_62_90_50_reconstructed.ply saved!\n",
      "/home/ozguc/GitHub/latentHeuristics/out/ply/reconstruct/custom_single/00000000_75_37_37_67_11_37_9_reconstructed.ply saved!\n",
      "/home/ozguc/GitHub/latentHeuristics/out/ply/reconstruct/custom_single/00000000_50_25_37_5_50_45_25_reconstructed.ply saved!\n",
      "/home/ozguc/GitHub/latentHeuristics/out/ply/reconstruct/custom_single/00000000_75_26_52_37_13_67_26_reconstructed.ply saved!\n",
      "/home/ozguc/GitHub/latentHeuristics/out/ply/reconstruct/custom_single/00000000_50_10_15_45_3_45_2_reconstructed.ply saved!\n",
      "/home/ozguc/GitHub/latentHeuristics/out/ply/reconstruct/custom_single/00000000_100_50_100_10_25_90_50_reconstructed.ply saved!\n",
      "/home/ozguc/GitHub/latentHeuristics/out/ply/reconstruct/custom_single/00000000_75_15_30_67_30_37_15_reconstructed.ply saved!\n",
      "/home/ozguc/GitHub/latentHeuristics/out/ply/reconstruct/custom_single/00000000_50_10_15_25_5_45_10_reconstructed.ply saved!\n",
      "/home/ozguc/GitHub/latentHeuristics/out/ply/reconstruct/custom_single/00000000_50_17_17_45_8_25_4_reconstructed.ply saved!\n",
      "/home/ozguc/GitHub/latentHeuristics/out/ply/reconstruct/custom_single/00000000_75_37_37_7_75_37_37_reconstructed.ply saved!\n",
      "/home/ozguc/GitHub/latentHeuristics/out/ply/reconstruct/custom_single/00000000_75_15_30_37_18_67_9_reconstructed.ply saved!\n",
      "/home/ozguc/GitHub/latentHeuristics/out/ply/reconstruct/custom_single/00000000_100_50_100_90_6_90_12_reconstructed.ply saved!\n",
      "/home/ozguc/GitHub/latentHeuristics/out/ply/reconstruct/custom_single/00000000_100_50_75_90_25_10_12_reconstructed.ply saved!\n",
      "/home/ozguc/GitHub/latentHeuristics/out/ply/reconstruct/custom_single/00000000_75_37_75_67_18_37_37_reconstructed.ply saved!\n",
      "/home/ozguc/GitHub/latentHeuristics/out/ply/reconstruct/custom_single/00000000_75_37_56_67_18_37_9_reconstructed.ply saved!\n",
      "/home/ozguc/GitHub/latentHeuristics/out/ply/reconstruct/custom_single/00000000_75_26_26_7_8_7_6_reconstructed.ply saved!\n",
      "/home/ozguc/GitHub/latentHeuristics/out/ply/reconstruct/custom_single/00000000_100_35_52_50_4_50_8_reconstructed.ply saved!\n",
      "/home/ozguc/GitHub/latentHeuristics/out/ply/reconstruct/custom_single/00000000_75_37_75_37_46_37_37_reconstructed.ply saved!\n",
      "/home/ozguc/GitHub/latentHeuristics/out/ply/reconstruct/custom_single/00000000_50_25_50_5_50_5_25_reconstructed.ply saved!\n",
      "/home/ozguc/GitHub/latentHeuristics/out/ply/reconstruct/custom_single/00000000_50_17_35_25_13_45_10_reconstructed.ply saved!\n",
      "/home/ozguc/GitHub/latentHeuristics/out/ply/reconstruct/custom_single/00000000_100_20_20_90_15_50_12_reconstructed.ply saved!\n",
      "/home/ozguc/GitHub/latentHeuristics/out/ply/reconstruct/custom_single/00000000_75_26_52_37_13_37_6_reconstructed.ply saved!\n",
      "/home/ozguc/GitHub/latentHeuristics/out/ply/reconstruct/custom_single/00000000_100_20_40_90_25_10_12_reconstructed.ply saved!\n",
      "/home/ozguc/GitHub/latentHeuristics/out/ply/reconstruct/custom_single/00000000_100_20_30_10_6_50_12_reconstructed.ply saved!\n",
      "/home/ozguc/GitHub/latentHeuristics/out/ply/reconstruct/custom_single/00000000_50_10_10_45_7_45_6_reconstructed.ply saved!\n",
      "/home/ozguc/GitHub/latentHeuristics/out/ply/reconstruct/custom_single/00000000_50_10_15_45_5_25_10_reconstructed.ply saved!\n",
      "/home/ozguc/GitHub/latentHeuristics/out/ply/reconstruct/custom_single/00000000_100_35_35_50_43_10_21_reconstructed.ply saved!\n",
      "/home/ozguc/GitHub/latentHeuristics/out/ply/reconstruct/custom_single/00000000_50_25_37_25_12_45_25_reconstructed.ply saved!\n",
      "/home/ozguc/GitHub/latentHeuristics/out/ply/reconstruct/custom_single/00000000_100_20_40_50_25_90_12_reconstructed.ply saved!\n",
      "/home/ozguc/GitHub/latentHeuristics/out/ply/reconstruct/custom_single/00000000_75_37_56_37_11_7_23_reconstructed.ply saved!\n",
      "/home/ozguc/GitHub/latentHeuristics/out/ply/reconstruct/custom_single/00000000_75_15_22_7_4_37_3_reconstructed.ply saved!\n",
      "/home/ozguc/GitHub/latentHeuristics/out/ply/reconstruct/custom_single/00000000_75_37_56_67_18_67_37_reconstructed.ply saved!\n",
      "/home/ozguc/GitHub/latentHeuristics/out/ply/reconstruct/custom_single/00000000_75_37_75_7_29_67_23_reconstructed.ply saved!\n",
      "/home/ozguc/GitHub/latentHeuristics/out/ply/reconstruct/custom_single/00000000_100_50_75_50_39_90_31_reconstructed.ply saved!\n",
      "/home/ozguc/GitHub/latentHeuristics/out/ply/reconstruct/custom_single/00000000_75_37_37_7_46_67_23_reconstructed.ply saved!\n",
      "/home/ozguc/GitHub/latentHeuristics/out/ply/reconstruct/custom_single/00000000_50_10_10_45_5_5_2_reconstructed.ply saved!\n",
      "/home/ozguc/GitHub/latentHeuristics/out/ply/reconstruct/custom_single/00000000_75_26_39_37_8_7_16_reconstructed.ply saved!\n",
      "/home/ozguc/GitHub/latentHeuristics/out/ply/reconstruct/custom_single/00000000_75_15_15_7_7_67_3_reconstructed.ply saved!\n",
      "/home/ozguc/GitHub/latentHeuristics/out/ply/reconstruct/custom_single/00000000_100_20_20_10_25_50_12_reconstructed.ply saved!\n",
      "/home/ozguc/GitHub/latentHeuristics/out/ply/reconstruct/custom_single/00000000_75_15_30_37_18_7_9_reconstructed.ply saved!\n",
      "/home/ozguc/GitHub/latentHeuristics/out/ply/reconstruct/custom_single/00000000_75_15_30_37_18_37_9_reconstructed.ply saved!\n",
      "/home/ozguc/GitHub/latentHeuristics/out/ply/reconstruct/custom_single/00000000_50_17_17_45_5_5_10_reconstructed.ply saved!\n",
      "/home/ozguc/GitHub/latentHeuristics/out/ply/reconstruct/custom_single/00000000_50_17_35_25_2_25_4_reconstructed.ply saved!\n",
      "/home/ozguc/GitHub/latentHeuristics/out/ply/reconstruct/custom_single/00000000_100_35_70_90_10_50_8_reconstructed.ply saved!\n",
      "/home/ozguc/GitHub/latentHeuristics/out/ply/reconstruct/custom_single/00000000_100_50_50_10_39_10_31_reconstructed.ply saved!\n",
      "/home/ozguc/GitHub/latentHeuristics/out/ply/reconstruct/custom_single/00000000_100_20_30_90_25_10_12_reconstructed.ply saved!\n",
      "/home/ozguc/GitHub/latentHeuristics/out/ply/reconstruct/custom_single/00000000_100_50_50_10_62_90_31_reconstructed.ply saved!\n",
      "/home/ozguc/GitHub/latentHeuristics/out/ply/reconstruct/custom_single/00000000_75_37_37_67_18_37_9_reconstructed.ply saved!\n",
      "/home/ozguc/GitHub/latentHeuristics/out/ply/reconstruct/custom_single/00000000_75_26_52_7_8_67_6_reconstructed.ply saved!\n",
      "/home/ozguc/GitHub/latentHeuristics/out/ply/reconstruct/custom_single/00000000_50_25_50_5_3_25_6_reconstructed.ply saved!\n",
      "/home/ozguc/GitHub/latentHeuristics/out/ply/reconstruct/custom_single/00000000_50_10_20_5_5_25_10_reconstructed.ply saved!\n",
      "/home/ozguc/GitHub/latentHeuristics/out/ply/reconstruct/custom_single/00000000_100_50_100_10_39_90_31_reconstructed.ply saved!\n",
      "/home/ozguc/GitHub/latentHeuristics/out/ply/reconstruct/custom_single/00000000_75_15_15_67_4_37_9_reconstructed.ply saved!\n",
      "/home/ozguc/GitHub/latentHeuristics/out/ply/reconstruct/custom_single/00000000_50_10_20_45_12_45_6_reconstructed.ply saved!\n",
      "/home/ozguc/GitHub/latentHeuristics/out/ply/reconstruct/custom_single/00000000_50_25_37_25_7_5_6_reconstructed.ply saved!\n",
      "/home/ozguc/GitHub/latentHeuristics/out/ply/reconstruct/custom_single/00000000_100_35_52_10_10_50_21_reconstructed.ply saved!\n",
      "/home/ozguc/GitHub/latentHeuristics/out/ply/reconstruct/custom_single/00000000_75_26_26_37_20_67_16_reconstructed.ply saved!\n",
      "/home/ozguc/GitHub/latentHeuristics/out/ply/reconstruct/custom_single/00000000_75_37_56_67_18_37_37_reconstructed.ply saved!\n",
      "/home/ozguc/GitHub/latentHeuristics/out/ply/reconstruct/custom_single/00000000_100_50_100_90_100_10_50_reconstructed.ply saved!\n",
      "/home/ozguc/GitHub/latentHeuristics/out/ply/reconstruct/custom_single/00000000_50_10_15_45_1_5_2_reconstructed.ply saved!\n",
      "/home/ozguc/GitHub/latentHeuristics/out/ply/reconstruct/custom_single/00000000_50_10_15_5_5_45_2_reconstructed.ply saved!\n",
      "/home/ozguc/GitHub/latentHeuristics/out/ply/reconstruct/custom_single/00000000_50_10_20_45_5_45_2_reconstructed.ply saved!\n",
      "/home/ozguc/GitHub/latentHeuristics/out/ply/reconstruct/custom_single/00000000_75_15_15_37_4_67_9_reconstructed.ply saved!\n",
      "/home/ozguc/GitHub/latentHeuristics/out/ply/reconstruct/custom_single/00000000_75_37_75_67_46_7_37_reconstructed.ply saved!\n",
      "/home/ozguc/GitHub/latentHeuristics/out/ply/reconstruct/custom_single/00000000_75_26_52_67_8_7_6_reconstructed.ply saved!\n",
      "/home/ozguc/GitHub/latentHeuristics/out/ply/reconstruct/custom_single/00000000_50_25_50_25_3_45_6_reconstructed.ply saved!\n",
      "/home/ozguc/GitHub/latentHeuristics/out/ply/reconstruct/custom_single/00000000_100_35_52_90_43_90_35_reconstructed.ply saved!\n",
      "/home/ozguc/GitHub/latentHeuristics/out/ply/reconstruct/custom_single/00000000_50_25_50_45_12_25_6_reconstructed.ply saved!\n",
      "/home/ozguc/GitHub/latentHeuristics/out/ply/reconstruct/custom_single/00000000_50_17_26_5_2_25_4_reconstructed.ply saved!\n",
      "/home/ozguc/GitHub/latentHeuristics/out/ply/reconstruct/custom_single/00000000_100_20_40_10_25_50_20_reconstructed.ply saved!\n",
      "/home/ozguc/GitHub/latentHeuristics/out/ply/reconstruct/custom_single/00000000_100_35_52_50_17_10_8_reconstructed.ply saved!\n",
      "/home/ozguc/GitHub/latentHeuristics/out/ply/reconstruct/custom_single/00000000_50_10_15_25_3_25_6_reconstructed.ply saved!\n",
      "/home/ozguc/GitHub/latentHeuristics/out/ply/reconstruct/custom_single/00000000_50_25_25_45_7_25_15_reconstructed.ply saved!\n",
      "/home/ozguc/GitHub/latentHeuristics/out/ply/reconstruct/custom_single/00000000_50_10_20_5_12_45_10_reconstructed.ply saved!\n",
      "/home/ozguc/GitHub/latentHeuristics/out/ply/reconstruct/custom_single/00000000_100_35_70_10_27_90_21_reconstructed.ply saved!\n",
      "/home/ozguc/GitHub/latentHeuristics/out/ply/reconstruct/custom_single/00000000_50_25_25_45_7_5_15_reconstructed.ply saved!\n",
      "/home/ozguc/GitHub/latentHeuristics/out/ply/reconstruct/custom_single/00000000_50_17_26_45_5_25_10_reconstructed.ply saved!\n",
      "/home/ozguc/GitHub/latentHeuristics/out/ply/reconstruct/custom_single/00000000_50_17_26_45_5_5_10_reconstructed.ply saved!\n",
      "/home/ozguc/GitHub/latentHeuristics/out/ply/reconstruct/custom_single/00000000_100_35_35_90_10_10_8_reconstructed.ply saved!\n",
      "/home/ozguc/GitHub/latentHeuristics/out/ply/reconstruct/custom_single/00000000_50_10_10_25_3_45_6_reconstructed.ply saved!\n",
      "/home/ozguc/GitHub/latentHeuristics/out/ply/reconstruct/custom_single/00000000_50_25_25_25_31_45_25_reconstructed.ply saved!\n",
      "/home/ozguc/GitHub/latentHeuristics/out/ply/reconstruct/custom_single/00000000_50_10_10_25_3_45_2_reconstructed.ply saved!\n",
      "/home/ozguc/GitHub/latentHeuristics/out/ply/reconstruct/custom_single/00000000_75_15_22_37_7_67_15_reconstructed.ply saved!\n",
      "/home/ozguc/GitHub/latentHeuristics/out/ply/reconstruct/custom_single/00000000_50_17_35_25_8_25_4_reconstructed.ply saved!\n",
      "/home/ozguc/GitHub/latentHeuristics/out/ply/reconstruct/custom_single/00000000_50_25_25_5_3_5_6_reconstructed.ply saved!\n",
      "/home/ozguc/GitHub/latentHeuristics/out/ply/reconstruct/custom_single/00000000_100_50_100_50_25_90_12_reconstructed.ply saved!\n",
      "/home/ozguc/GitHub/latentHeuristics/out/ply/reconstruct/custom_single/00000000_100_35_52_50_27_50_21_reconstructed.ply saved!\n",
      "/home/ozguc/GitHub/latentHeuristics/out/ply/reconstruct/custom_single/00000000_75_15_22_67_11_7_9_reconstructed.ply saved!\n",
      "/home/ozguc/GitHub/latentHeuristics/out/ply/reconstruct/custom_single/00000000_100_35_35_90_27_50_21_reconstructed.ply saved!\n",
      "/home/ozguc/GitHub/latentHeuristics/out/ply/reconstruct/custom_single/00000000_50_10_20_25_5_25_2_reconstructed.ply saved!\n",
      "/home/ozguc/GitHub/latentHeuristics/out/ply/reconstruct/custom_single/00000000_75_26_39_7_13_67_26_reconstructed.ply saved!\n"
     ]
    }
   ],
   "source": [
    "if export_reconstruct:\n",
    "    target_dir = out_dir+\"/ply/reconstruct/%s/\" % experiment_name\n",
    "    if not os.path.exists(target_dir):\n",
    "            os.makedirs(target_dir)\n",
    "\n",
    "    for i in range(len(all_pc_data.point_clouds)):\n",
    "        fn = target_dir+\"%s_reconstructed.ply\" % (all_pc_data.labels[i])\n",
    "        pc = ae.reconstruct(all_pc_data.point_clouds[i].reshape((1,2048,3)))[0][0]\n",
    "        write_ply(pc, fn)\n",
    "        print(fn+\" saved!\")"
   ]
  },
  {
   "source": [
    "Export interpolated point clouds (simple_i --> asymmetric_i, spiral_i, lowPoly_i) to ply file"
   ],
   "cell_type": "markdown",
   "metadata": {}
  },
  {
   "cell_type": "code",
   "execution_count": null,
   "metadata": {
    "collapsed": false
   },
   "outputs": [],
   "source": [
    "if export_interpolate:\n",
    "    n_samples = 4\n",
    "    n_interpolate = 20\n",
    "\n",
    "    target_dir = out_dir+\"/ply/interpolate/%s/\" % experiment_name\n",
    "    if not os.path.exists(target_dir):\n",
    "            os.makedirs(target_dir)\n",
    "\n",
    "    for i in np.linspace(0, 2000, n_samples, endpoint=False):\n",
    "        i = int(i)\n",
    "        simple_asymmetric = ae.interpolate(all_pc_data.point_clouds[4000+i],  all_pc_data.point_clouds[0000+i], steps=n_interpolate)\n",
    "        simple_lowPoly = ae.interpolate(all_pc_data.point_clouds[4000+i],  all_pc_data.point_clouds[2000+i], steps=n_interpolate)\n",
    "        simple_spiral = ae.interpolate(all_pc_data.point_clouds[4000+i],  all_pc_data.point_clouds[6000+i], steps=n_interpolate)\n",
    "        for j in range(n_interpolate+2):\n",
    "            fn = target_dir+\"simple_asymmetric_%04d_%02d\" % (i,j)\n",
    "            write_ply(simple_asymmetric[j], fn)\n",
    "            print(fn+\" saved!\")\n",
    "            \n",
    "            fn = target_dir+\"simple_lowPoly_%04d_%02d\" % (i,j)\n",
    "            write_ply(simple_lowPoly[j], fn)\n",
    "            print(fn+\" saved!\")\n",
    "            \n",
    "            fn = target_dir+\"simple_spiral_%04d_%02d\" % (i,j)\n",
    "            write_ply(simple_spiral[j], fn)\n",
    "            print(fn+\" saved!\")\n",
    "        "
   ]
  },
  {
   "cell_type": "code",
   "execution_count": null,
   "metadata": {},
   "outputs": [],
   "source": []
  }
 ],
 "metadata": {
  "kernelspec": {
   "name": "python2718jvsc74a57bd02df08e680095c0421d031642f9c277aec4dde14eeefdfbfd53d7d084974fb782",
   "display_name": "Python 2.7.18 64-bit ('ml': conda)"
  },
  "language_info": {
   "codemirror_mode": {
    "name": "ipython",
    "version": 2
   },
   "file_extension": ".py",
   "mimetype": "text/x-python",
   "name": "python",
   "nbconvert_exporter": "python",
   "pygments_lexer": "ipython2",
   "version": "2.7.18"
  },
  "metadata": {
   "interpreter": {
    "hash": "2df08e680095c0421d031642f9c277aec4dde14eeefdfbfd53d7d084974fb782"
   }
  }
 },
 "nbformat": 4,
 "nbformat_minor": 2
}