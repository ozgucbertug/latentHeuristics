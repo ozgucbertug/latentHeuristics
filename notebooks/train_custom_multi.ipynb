{
 "cells": [
  {
   "cell_type": "code",
   "execution_count": null,
   "metadata": {
    "collapsed": false
   },
   "outputs": [],
   "source": [
    "import os.path as osp\n",
    "import numpy as np\n",
    "import sys\n",
    "sys.path.append(\"/home/ozguc/GitHub\")\n",
    "\n",
    "from latentHeuristics.src.ae_templates import mlp_architecture_ala_iclr_18, default_train_params\n",
    "from latentHeuristics.src.autoencoder import Configuration as Conf\n",
    "from latentHeuristics.src.point_net_ae import PointNetAutoEncoder\n",
    "\n",
    "from latentHeuristics.src.in_out import snc_category_to_synth_id, create_dir, PointCloudDataSet, \\\n",
    "                                        load_all_point_clouds_under_folder\n",
    "\n",
    "from latentHeuristics.src.tf_utils import reset_tf_graph\n",
    "from latentHeuristics.src.general_utils import plot_3d_point_cloud"
   ]
  },
  {
   "cell_type": "code",
   "execution_count": null,
   "metadata": {
    "collapsed": false
   },
   "outputs": [],
   "source": [
    "%load_ext autoreload\n",
    "%autoreload 2\n",
    "%matplotlib inline"
   ]
  },
  {
   "cell_type": "markdown",
   "metadata": {},
   "source": [
    "Define Basic Parameters"
   ]
  },
  {
   "cell_type": "code",
   "execution_count": null,
   "metadata": {
    "collapsed": false
   },
   "outputs": [],
   "source": [
    "top_out_dir = '../out/model/'          # Use to save Neural-Net check-points etc.\n",
    "top_in_dir = '../ghData/data/' # Top-dir of where point-clouds are stored.\n",
    "\n",
    "experiment_name = 'custom_multi'\n",
    "n_pc_points = 2048                # Number of points per model.\n",
    "bneck_size = 128                  # Bottleneck-AE size\n",
    "ae_loss = 'chamfer'                   # Loss to optimize: 'emd' or 'chamfer'\n",
    "class_name = \"custom_multi\""
   ]
  },
  {
   "cell_type": "markdown",
   "metadata": {},
   "source": [
    "Load Point Clouds"
   ]
  },
  {
   "cell_type": "code",
   "execution_count": 4,
   "metadata": {
    "collapsed": false,
    "tags": [
     "outputPrepend"
    ]
   },
   "outputs": [
    {
     "output_type": "stream",
     "name": "stderr",
     "text": [
      "nal/python_plyfile/plyfile.py\", line 776, in dtype\n",
      "  File \"/home/ozguc/GitHub/latentHeuristics/external/python_plyfile/plyfile.py\", line 284, in read\n",
      "    elt._read(stream, data.text, data.byte_order)\n",
      "    elt._read(stream, data.text, data.byte_order)\n",
      "  File \"/home/ozguc/GitHub/latentHeuristics/external/python_plyfile/plyfile.py\", line 573, in _read\n",
      "  File \"/home/ozguc/GitHub/latentHeuristics/external/python_plyfile/plyfile.py\", line 573, in _read\n",
      "    self._read_txt(stream)\n",
      "    self._read_txt(stream)\n",
      "    return byte_order + self.val_dtype\n",
      "  File \"/home/ozguc/GitHub/latentHeuristics/external/python_plyfile/plyfile.py\", line 633, in _read_txt\n",
      "  File \"/home/ozguc/GitHub/latentHeuristics/external/python_plyfile/plyfile.py\", line 624, in _read_txt\n",
      "    except StopIteration:\n",
      "  File \"/home/ozguc/GitHub/latentHeuristics/external/python_plyfile/plyfile.py\", line 730, in _get_val_dtype\n",
      "    return self._val_dtype\n",
      "    self._data[prop.name][k] = prop._from_fields(fields)\n",
      "KeyboardInterrupt\n",
      "  File \"/home/ozguc/GitHub/latentHeuristics/external/python_plyfile/plyfile.py\", line 737, in name\n",
      "KeyboardInterrupt\n",
      "    @property\n",
      "KeyboardInterrupt\n",
      "Process PoolWorker-11:\n",
      "Process PoolWorker-15:\n",
      "Process PoolWorker-13:\n",
      "Process PoolWorker-9:\n",
      "Process PoolWorker-10:\n",
      "Process PoolWorker-16:\n",
      "Process PoolWorker-14:\n",
      "Process PoolWorker-12:\n",
      "Traceback (most recent call last):\n",
      "Traceback (most recent call last):\n",
      "Traceback (most recent call last):\n",
      "Traceback (most recent call last):\n",
      "Traceback (most recent call last):\n",
      "  File \"/home/ozguc/.conda/envs/ml/lib/python2.7/multiprocessing/process.py\", line 267, in _bootstrap\n",
      "Traceback (most recent call last):\n",
      "Traceback (most recent call last):\n",
      "  File \"/home/ozguc/.conda/envs/ml/lib/python2.7/multiprocessing/process.py\", line 267, in _bootstrap\n",
      "  File \"/home/ozguc/.conda/envs/ml/lib/python2.7/multiprocessing/process.py\", line 267, in _bootstrap\n",
      "  File \"/home/ozguc/.conda/envs/ml/lib/python2.7/multiprocessing/process.py\", line 267, in _bootstrap\n",
      "Traceback (most recent call last):\n",
      "    self.run()\n",
      "    self.run()\n",
      "  File \"/home/ozguc/.conda/envs/ml/lib/python2.7/multiprocessing/process.py\", line 267, in _bootstrap\n",
      "  File \"/home/ozguc/.conda/envs/ml/lib/python2.7/multiprocessing/process.py\", line 114, in run\n",
      "  File \"/home/ozguc/.conda/envs/ml/lib/python2.7/multiprocessing/process.py\", line 114, in run\n",
      "    self.run()\n",
      "    self._target(*self._args, **self._kwargs)\n",
      "    self.run()\n",
      "  File \"/home/ozguc/.conda/envs/ml/lib/python2.7/multiprocessing/process.py\", line 114, in run\n",
      "    self._target(*self._args, **self._kwargs)\n",
      "  File \"/home/ozguc/.conda/envs/ml/lib/python2.7/multiprocessing/pool.py\", line 113, in worker\n",
      "  File \"/home/ozguc/.conda/envs/ml/lib/python2.7/multiprocessing/process.py\", line 114, in run\n",
      "    self._target(*self._args, **self._kwargs)\n",
      "    result = (True, func(*args, **kwds))\n",
      "  File \"/home/ozguc/.conda/envs/ml/lib/python2.7/multiprocessing/pool.py\", line 113, in worker\n",
      "  File \"/home/ozguc/.conda/envs/ml/lib/python2.7/multiprocessing/pool.py\", line 113, in worker\n",
      "  File \"/home/ozguc/GitHub/latentHeuristics/src/in_out.py\", line 111, in pc_loader\n",
      "    self._target(*self._args, **self._kwargs)\n",
      "  File \"/home/ozguc/.conda/envs/ml/lib/python2.7/multiprocessing/process.py\", line 267, in _bootstrap\n",
      "    result = (True, func(*args, **kwds))\n",
      "    result = (True, func(*args, **kwds))\n",
      "  File \"/home/ozguc/GitHub/latentHeuristics/src/in_out.py\", line 111, in pc_loader\n",
      "  File \"/home/ozguc/GitHub/latentHeuristics/src/in_out.py\", line 111, in pc_loader\n",
      "  File \"/home/ozguc/.conda/envs/ml/lib/python2.7/multiprocessing/pool.py\", line 113, in worker\n",
      "    return load_ply(f_name), model_id, synet_id\n",
      "    self.run()\n",
      "  File \"/home/ozguc/GitHub/latentHeuristics/src/in_out.py\", line 82, in load_ply\n",
      "    return load_ply(f_name), model_id, synet_id\n",
      "    result = (True, func(*args, **kwds))\n",
      "  File \"/home/ozguc/GitHub/latentHeuristics/src/in_out.py\", line 82, in load_ply\n",
      "  File \"/home/ozguc/.conda/envs/ml/lib/python2.7/multiprocessing/process.py\", line 267, in _bootstrap\n",
      "  File \"/home/ozguc/.conda/envs/ml/lib/python2.7/multiprocessing/process.py\", line 114, in run\n",
      "    ply_data = PlyData.read(file_name)\n",
      "    self.run()\n",
      "  File \"/home/ozguc/GitHub/latentHeuristics/src/in_out.py\", line 111, in pc_loader\n",
      "    ply_data = PlyData.read(file_name)\n",
      "    self._target(*self._args, **self._kwargs)\n",
      "  File \"/home/ozguc/.conda/envs/ml/lib/python2.7/multiprocessing/process.py\", line 267, in _bootstrap\n",
      "  File \"/home/ozguc/.conda/envs/ml/lib/python2.7/multiprocessing/process.py\", line 114, in run\n",
      "  File \"/home/ozguc/GitHub/latentHeuristics/external/python_plyfile/plyfile.py\", line 284, in read\n",
      "    return load_ply(f_name), model_id, synet_id\n",
      "    self.run()\n",
      "    self._target(*self._args, **self._kwargs)\n",
      "  File \"/home/ozguc/GitHub/latentHeuristics/src/in_out.py\", line 82, in load_ply\n",
      "    elt._read(stream, data.text, data.byte_order)\n",
      "  File \"/home/ozguc/.conda/envs/ml/lib/python2.7/multiprocessing/pool.py\", line 113, in worker\n",
      "  File \"/home/ozguc/.conda/envs/ml/lib/python2.7/multiprocessing/process.py\", line 114, in run\n",
      "    ply_data = PlyData.read(file_name)\n",
      "  File \"/home/ozguc/GitHub/latentHeuristics/external/python_plyfile/plyfile.py\", line 573, in _read\n",
      "  File \"/home/ozguc/.conda/envs/ml/lib/python2.7/multiprocessing/pool.py\", line 113, in worker\n",
      "    self._read_txt(stream)\n",
      "    result = (True, func(*args, **kwds))\n",
      "  File \"/home/ozguc/GitHub/latentHeuristics/external/python_plyfile/plyfile.py\", line 284, in read\n",
      "    result = (True, func(*args, **kwds))\n",
      "  File \"/home/ozguc/GitHub/latentHeuristics/external/python_plyfile/plyfile.py\", line 624, in _read_txt\n",
      "  File \"/home/ozguc/GitHub/latentHeuristics/src/in_out.py\", line 111, in pc_loader\n",
      "  File \"/home/ozguc/GitHub/latentHeuristics/src/in_out.py\", line 111, in pc_loader\n",
      "    self._data[prop.name][k] = prop._from_fields(fields)\n",
      "    self._target(*self._args, **self._kwargs)\n",
      "    return load_ply(f_name), model_id, synet_id\n",
      "    elt._read(stream, data.text, data.byte_order)\n",
      "    return load_ply(f_name), model_id, synet_id\n",
      "  File \"/home/ozguc/.conda/envs/ml/lib/python2.7/multiprocessing/pool.py\", line 113, in worker\n",
      "  File \"/home/ozguc/GitHub/latentHeuristics/external/python_plyfile/plyfile.py\", line 784, in _from_fields\n",
      "    return load_ply(f_name), model_id, synet_id\n",
      "    result = (True, func(*args, **kwds))\n",
      "  File \"/home/ozguc/GitHub/latentHeuristics/external/python_plyfile/plyfile.py\", line 573, in _read\n",
      "    self.run()\n",
      "  File \"/home/ozguc/GitHub/latentHeuristics/src/in_out.py\", line 82, in load_ply\n",
      "  File \"/home/ozguc/GitHub/latentHeuristics/src/in_out.py\", line 82, in load_ply\n",
      "  File \"/home/ozguc/GitHub/latentHeuristics/src/in_out.py\", line 111, in pc_loader\n",
      "    self._read_txt(stream)\n",
      "    return _np.dtype(self.dtype()).type(next(fields))\n",
      "    ply_data = PlyData.read(file_name)\n",
      "    ply_data = PlyData.read(file_name)\n",
      "  File \"/home/ozguc/.conda/envs/ml/lib/python2.7/multiprocessing/process.py\", line 114, in run\n",
      "  File \"/home/ozguc/GitHub/latentHeuristics/external/python_plyfile/plyfile.py\", line 284, in read\n",
      "    self._target(*self._args, **self._kwargs)\n",
      "    elt._read(stream, data.text, data.byte_order)\n",
      "  File \"/home/ozguc/GitHub/latentHeuristics/src/in_out.py\", line 82, in load_ply\n",
      "  File \"/home/ozguc/GitHub/latentHeuristics/external/python_plyfile/plyfile.py\", line 624, in _read_txt\n",
      "KeyboardInterrupt\n",
      "  File \"/home/ozguc/GitHub/latentHeuristics/external/python_plyfile/plyfile.py\", line 284, in read\n",
      "    return load_ply(f_name), model_id, synet_id\n",
      "  File \"/home/ozguc/.conda/envs/ml/lib/python2.7/multiprocessing/pool.py\", line 113, in worker\n",
      "  File \"/home/ozguc/GitHub/latentHeuristics/external/python_plyfile/plyfile.py\", line 573, in _read\n",
      "    elt._read(stream, data.text, data.byte_order)\n",
      "    self._data[prop.name][k] = prop._from_fields(fields)\n",
      "  File \"/home/ozguc/GitHub/latentHeuristics/external/python_plyfile/plyfile.py\", line 284, in read\n",
      "    result = (True, func(*args, **kwds))\n",
      "    self._read_txt(stream)\n",
      "  File \"/home/ozguc/GitHub/latentHeuristics/external/python_plyfile/plyfile.py\", line 573, in _read\n",
      "  File \"/home/ozguc/GitHub/latentHeuristics/src/in_out.py\", line 111, in pc_loader\n",
      "  File \"/home/ozguc/GitHub/latentHeuristics/external/python_plyfile/plyfile.py\", line 624, in _read_txt\n",
      "    self._read_txt(stream)\n",
      "    ply_data = PlyData.read(file_name)\n",
      "    return load_ply(f_name), model_id, synet_id\n",
      "    elt._read(stream, data.text, data.byte_order)\n",
      "    self._data[prop.name][k] = prop._from_fields(fields)\n",
      "  File \"/home/ozguc/GitHub/latentHeuristics/external/python_plyfile/plyfile.py\", line 624, in _read_txt\n",
      "  File \"/home/ozguc/GitHub/latentHeuristics/src/in_out.py\", line 82, in load_ply\n",
      "  File \"/home/ozguc/GitHub/latentHeuristics/external/python_plyfile/plyfile.py\", line 284, in read\n",
      "  File \"/home/ozguc/GitHub/latentHeuristics/external/python_plyfile/plyfile.py\", line 573, in _read\n",
      "    self._data[prop.name][k] = prop._from_fields(fields)\n",
      "    self._read_txt(stream)\n",
      "    ply_data = PlyData.read(file_name)\n",
      "  File \"/home/ozguc/GitHub/latentHeuristics/external/python_plyfile/plyfile.py\", line 784, in _from_fields\n",
      "  File \"/home/ozguc/GitHub/latentHeuristics/external/python_plyfile/plyfile.py\", line 624, in _read_txt\n",
      "    elt._read(stream, data.text, data.byte_order)\n",
      "  File \"/home/ozguc/GitHub/latentHeuristics/external/python_plyfile/plyfile.py\", line 784, in _from_fields\n",
      "KeyboardInterrupt\n",
      "  File \"/home/ozguc/GitHub/latentHeuristics/external/python_plyfile/plyfile.py\", line 284, in read\n",
      "    return _np.dtype(self.dtype()).type(next(fields))\n",
      "    self._data[prop.name][k] = prop._from_fields(fields)\n",
      "    return _np.dtype(self.dtype()).type(next(fields))\n",
      "  File \"/home/ozguc/GitHub/latentHeuristics/external/python_plyfile/plyfile.py\", line 573, in _read\n",
      "    elt._read(stream, data.text, data.byte_order)\n",
      "  File \"/home/ozguc/GitHub/latentHeuristics/external/python_plyfile/plyfile.py\", line 776, in dtype\n",
      "KeyboardInterrupt\n",
      "    return byte_order + self.val_dtype\n",
      "  File \"/home/ozguc/GitHub/latentHeuristics/external/python_plyfile/plyfile.py\", line 784, in _from_fields\n",
      "    self._read_txt(stream)\n",
      "  File \"/home/ozguc/GitHub/latentHeuristics/external/python_plyfile/plyfile.py\", line 729, in _get_val_dtype\n",
      "  File \"/home/ozguc/GitHub/latentHeuristics/external/python_plyfile/plyfile.py\", line 573, in _read\n",
      "    return _np.dtype(self.dtype()).type(next(fields))\n",
      "  File \"/home/ozguc/GitHub/latentHeuristics/external/python_plyfile/plyfile.py\", line 620, in _read_txt\n",
      "    def _get_val_dtype(self):\n",
      "KeyboardInterrupt\n",
      "    self._read_txt(stream)\n",
      "  File \"/home/ozguc/GitHub/latentHeuristics/src/in_out.py\", line 82, in load_ply\n",
      "KeyboardInterrupt\n",
      "  File \"/home/ozguc/GitHub/latentHeuristics/external/python_plyfile/plyfile.py\", line 632, in _read_txt\n",
      "    for line in _islice(iter(stream.readline, b''), self.count):\n",
      "KeyboardInterrupt\n",
      "    next(fields)\n",
      "    ply_data = PlyData.read(file_name)\n",
      "  File \"/home/ozguc/GitHub/latentHeuristics/external/python_plyfile/plyfile.py\", line 284, in read\n",
      "    elt._read(stream, data.text, data.byte_order)\n",
      "  File \"/home/ozguc/GitHub/latentHeuristics/external/python_plyfile/plyfile.py\", line 573, in _read\n",
      "    self._read_txt(stream)\n",
      "  File \"/home/ozguc/GitHub/latentHeuristics/external/python_plyfile/plyfile.py\", line 624, in _read_txt\n",
      "    self._data[prop.name][k] = prop._from_fields(fields)\n",
      "KeyboardInterrupt\n",
      "KeyboardInterrupt\n",
      "Process PoolWorker-21:\n",
      "Process PoolWorker-18:\n",
      "Process PoolWorker-20:\n",
      "Process PoolWorker-22:\n",
      "Traceback (most recent call last):\n",
      "Process PoolWorker-17:\n",
      "Traceback (most recent call last):\n",
      "Traceback (most recent call last):\n",
      "Process PoolWorker-23:\n",
      "Traceback (most recent call last):\n",
      "Traceback (most recent call last):\n",
      "  File \"/home/ozguc/.conda/envs/ml/lib/python2.7/multiprocessing/process.py\", line 267, in _bootstrap\n",
      "  File \"/home/ozguc/.conda/envs/ml/lib/python2.7/multiprocessing/process.py\", line 267, in _bootstrap\n",
      "  File \"/home/ozguc/.conda/envs/ml/lib/python2.7/multiprocessing/process.py\", line 267, in _bootstrap\n",
      "  File \"/home/ozguc/.conda/envs/ml/lib/python2.7/multiprocessing/process.py\", line 267, in _bootstrap\n",
      "Traceback (most recent call last):\n",
      "    self.run()\n",
      "    self.run()\n",
      "  File \"/home/ozguc/.conda/envs/ml/lib/python2.7/multiprocessing/process.py\", line 114, in run\n",
      "  File \"/home/ozguc/.conda/envs/ml/lib/python2.7/multiprocessing/process.py\", line 267, in _bootstrap\n",
      "    self.run()\n",
      "  File \"/home/ozguc/.conda/envs/ml/lib/python2.7/multiprocessing/process.py\", line 114, in run\n",
      "    self.run()\n",
      "Process PoolWorker-19:\n",
      "    self.run()\n",
      "  File \"/home/ozguc/.conda/envs/ml/lib/python2.7/multiprocessing/process.py\", line 114, in run\n",
      "  File \"/home/ozguc/.conda/envs/ml/lib/python2.7/multiprocessing/process.py\", line 114, in run\n",
      "  File \"/home/ozguc/.conda/envs/ml/lib/python2.7/multiprocessing/process.py\", line 114, in run\n",
      "    self._target(*self._args, **self._kwargs)\n",
      "    self._target(*self._args, **self._kwargs)\n",
      "Traceback (most recent call last):\n",
      "    self._target(*self._args, **self._kwargs)\n",
      "  File \"/home/ozguc/.conda/envs/ml/lib/python2.7/multiprocessing/pool.py\", line 113, in worker\n",
      "  File \"/home/ozguc/.conda/envs/ml/lib/python2.7/multiprocessing/pool.py\", line 113, in worker\n",
      "  File \"/home/ozguc/.conda/envs/ml/lib/python2.7/multiprocessing/process.py\", line 267, in _bootstrap\n",
      "  File \"/home/ozguc/.conda/envs/ml/lib/python2.7/multiprocessing/pool.py\", line 113, in worker\n",
      "    result = (True, func(*args, **kwds))\n",
      "    result = (True, func(*args, **kwds))\n",
      "    self.run()\n",
      "  File \"/home/ozguc/GitHub/latentHeuristics/src/in_out.py\", line 111, in pc_loader\n",
      "  File \"/home/ozguc/.conda/envs/ml/lib/python2.7/multiprocessing/process.py\", line 114, in run\n",
      "  File \"/home/ozguc/GitHub/latentHeuristics/src/in_out.py\", line 111, in pc_loader\n",
      "    self._target(*self._args, **self._kwargs)\n",
      "    self._target(*self._args, **self._kwargs)\n",
      "    self._target(*self._args, **self._kwargs)\n",
      "    return load_ply(f_name), model_id, synet_id\n",
      "  File \"/home/ozguc/.conda/envs/ml/lib/python2.7/multiprocessing/pool.py\", line 113, in worker\n",
      "  File \"/home/ozguc/GitHub/latentHeuristics/src/in_out.py\", line 82, in load_ply\n",
      "  File \"/home/ozguc/.conda/envs/ml/lib/python2.7/multiprocessing/pool.py\", line 113, in worker\n",
      "  File \"/home/ozguc/.conda/envs/ml/lib/python2.7/multiprocessing/pool.py\", line 113, in worker\n",
      "    ply_data = PlyData.read(file_name)\n",
      "  File \"/home/ozguc/GitHub/latentHeuristics/external/python_plyfile/plyfile.py\", line 284, in read\n",
      "    result = (True, func(*args, **kwds))\n",
      "    result = (True, func(*args, **kwds))\n",
      "  File \"/home/ozguc/GitHub/latentHeuristics/src/in_out.py\", line 111, in pc_loader\n",
      "    elt._read(stream, data.text, data.byte_order)\n",
      "  File \"/home/ozguc/GitHub/latentHeuristics/src/in_out.py\", line 111, in pc_loader\n",
      "    return load_ply(f_name), model_id, synet_id\n",
      "  File \"/home/ozguc/GitHub/latentHeuristics/external/python_plyfile/plyfile.py\", line 573, in _read\n",
      "  File \"/home/ozguc/GitHub/latentHeuristics/src/in_out.py\", line 82, in load_ply\n",
      "    return load_ply(f_name), model_id, synet_id\n",
      "    self._read_txt(stream)\n",
      "    ply_data = PlyData.read(file_name)\n",
      "  File \"/home/ozguc/GitHub/latentHeuristics/external/python_plyfile/plyfile.py\", line 624, in _read_txt\n",
      "  File \"/home/ozguc/GitHub/latentHeuristics/src/in_out.py\", line 82, in load_ply\n",
      "    result = (True, func(*args, **kwds))\n",
      "    ply_data = PlyData.read(file_name)\n",
      "    self._data[prop.name][k] = prop._from_fields(fields)\n",
      "  File \"/home/ozguc/GitHub/latentHeuristics/src/in_out.py\", line 111, in pc_loader\n",
      "    result = (True, func(*args, **kwds))\n",
      "  File \"/home/ozguc/GitHub/latentHeuristics/src/in_out.py\", line 111, in pc_loader\n",
      "    return load_ply(f_name), model_id, synet_id\n",
      "  File \"/home/ozguc/GitHub/latentHeuristics/src/in_out.py\", line 82, in load_ply\n",
      "    ply_data = PlyData.read(file_name)\n",
      "  File \"/home/ozguc/GitHub/latentHeuristics/external/python_plyfile/plyfile.py\", line 284, in read\n",
      "  File \"/home/ozguc/GitHub/latentHeuristics/external/python_plyfile/plyfile.py\", line 284, in read\n",
      "    elt._read(stream, data.text, data.byte_order)\n",
      "    elt._read(stream, data.text, data.byte_order)\n",
      "  File \"/home/ozguc/GitHub/latentHeuristics/external/python_plyfile/plyfile.py\", line 573, in _read\n",
      "  File \"/home/ozguc/GitHub/latentHeuristics/external/python_plyfile/plyfile.py\", line 573, in _read\n",
      "    self._read_txt(stream)\n",
      "    self._read_txt(stream)\n",
      "    return load_ply(f_name), model_id, synet_id\n",
      "  File \"/home/ozguc/.conda/envs/ml/lib/python2.7/multiprocessing/process.py\", line 267, in _bootstrap\n",
      "    return load_ply(f_name), model_id, synet_id\n",
      "  File \"/home/ozguc/GitHub/latentHeuristics/external/python_plyfile/plyfile.py\", line 624, in _read_txt\n",
      "    self._data[prop.name][k] = prop._from_fields(fields)\n",
      "  File \"/home/ozguc/GitHub/latentHeuristics/src/in_out.py\", line 82, in load_ply\n",
      "  File \"/home/ozguc/GitHub/latentHeuristics/src/in_out.py\", line 82, in load_ply\n",
      "  File \"/home/ozguc/GitHub/latentHeuristics/external/python_plyfile/plyfile.py\", line 632, in _read_txt\n",
      "KeyboardInterrupt\n",
      "  File \"/home/ozguc/GitHub/latentHeuristics/external/python_plyfile/plyfile.py\", line 284, in read\n",
      "    ply_data = PlyData.read(file_name)\n",
      "  File \"/home/ozguc/GitHub/latentHeuristics/external/python_plyfile/plyfile.py\", line 784, in _from_fields\n",
      "    next(fields)\n",
      "    elt._read(stream, data.text, data.byte_order)\n",
      "    return _np.dtype(self.dtype()).type(next(fields))\n",
      "  File \"/home/ozguc/GitHub/latentHeuristics/external/python_plyfile/plyfile.py\", line 284, in read\n",
      "KeyboardInterrupt\n",
      "  File \"/home/ozguc/GitHub/latentHeuristics/external/python_plyfile/plyfile.py\", line 573, in _read\n",
      "    self.run()\n",
      "    elt._read(stream, data.text, data.byte_order)\n",
      "    self._read_txt(stream)\n",
      "  File \"/home/ozguc/GitHub/latentHeuristics/external/python_plyfile/plyfile.py\", line 573, in _read\n",
      "  File \"/home/ozguc/GitHub/latentHeuristics/external/python_plyfile/plyfile.py\", line 624, in _read_txt\n",
      "    self._read_txt(stream)\n",
      "  File \"/home/ozguc/.conda/envs/ml/lib/python2.7/multiprocessing/process.py\", line 114, in run\n",
      "    self._data[prop.name][k] = prop._from_fields(fields)\n",
      "    self._target(*self._args, **self._kwargs)\n",
      "  File \"/home/ozguc/GitHub/latentHeuristics/external/python_plyfile/plyfile.py\", line 624, in _read_txt\n",
      "  File \"/home/ozguc/.conda/envs/ml/lib/python2.7/multiprocessing/pool.py\", line 113, in worker\n",
      "    self._data[prop.name][k] = prop._from_fields(fields)\n",
      "    result = (True, func(*args, **kwds))\n",
      "KeyboardInterrupt\n",
      "  File \"/home/ozguc/GitHub/latentHeuristics/external/python_plyfile/plyfile.py\", line 784, in _from_fields\n",
      "KeyboardInterrupt\n",
      "    return _np.dtype(self.dtype()).type(next(fields))\n",
      "KeyboardInterrupt\n",
      "  File \"/home/ozguc/GitHub/latentHeuristics/src/in_out.py\", line 111, in pc_loader\n",
      "    return load_ply(f_name), model_id, synet_id\n",
      "    ply_data = PlyData.read(file_name)\n",
      "  File \"/home/ozguc/GitHub/latentHeuristics/external/python_plyfile/plyfile.py\", line 284, in read\n",
      "  File \"/home/ozguc/GitHub/latentHeuristics/src/in_out.py\", line 82, in load_ply\n",
      "    ply_data = PlyData.read(file_name)\n",
      "    elt._read(stream, data.text, data.byte_order)\n",
      "  File \"/home/ozguc/GitHub/latentHeuristics/external/python_plyfile/plyfile.py\", line 573, in _read\n",
      "  File \"/home/ozguc/GitHub/latentHeuristics/external/python_plyfile/plyfile.py\", line 284, in read\n",
      "    self._read_txt(stream)\n",
      "    elt._read(stream, data.text, data.byte_order)\n",
      "  File \"/home/ozguc/GitHub/latentHeuristics/external/python_plyfile/plyfile.py\", line 624, in _read_txt\n",
      "  File \"/home/ozguc/GitHub/latentHeuristics/external/python_plyfile/plyfile.py\", line 573, in _read\n",
      "    self._data[prop.name][k] = prop._from_fields(fields)\n",
      "  File \"/home/ozguc/GitHub/latentHeuristics/external/python_plyfile/plyfile.py\", line 784, in _from_fields\n",
      "    self._read_txt(stream)\n",
      "  File \"/home/ozguc/GitHub/latentHeuristics/external/python_plyfile/plyfile.py\", line 624, in _read_txt\n",
      "    self._data[prop.name][k] = prop._from_fields(fields)\n",
      "    return _np.dtype(self.dtype()).type(next(fields))\n",
      "KeyboardInterrupt\n",
      "  File \"/home/ozguc/GitHub/latentHeuristics/external/python_plyfile/plyfile.py\", line 784, in _from_fields\n",
      "    return _np.dtype(self.dtype()).type(next(fields))\n",
      "KeyboardInterrupt\n"
     ]
    }
   ],
   "source": [
    "syn_id = snc_category_to_synth_id()[class_name]\n",
    "class_dir = osp.join(top_in_dir , syn_id)\n",
    "all_pc_data = load_all_point_clouds_under_folder(class_dir, n_threads=8, file_ending='.ply', verbose=True)"
   ]
  },
  {
   "cell_type": "markdown",
   "metadata": {},
   "source": [
    "Load default training parameters (some of which are listed beloq). For more details please print the configuration object.\n",
    "\n",
    "    'batch_size': 50   \n",
    "    \n",
    "    'denoising': False     (# by default AE is not denoising)\n",
    "\n",
    "    'learning_rate': 0.0005\n",
    "\n",
    "    'z_rotate': False      (# randomly rotate models of each batch)\n",
    "    \n",
    "    'loss_display_step': 1 (# display loss at end of these many epochs)\n",
    "    'saver_step': 10       (# over how many epochs to save neural-network)"
   ]
  },
  {
   "cell_type": "code",
   "execution_count": null,
   "metadata": {
    "collapsed": true
   },
   "outputs": [],
   "source": [
    "train_params = default_train_params()"
   ]
  },
  {
   "cell_type": "code",
   "execution_count": null,
   "metadata": {
    "collapsed": true
   },
   "outputs": [],
   "source": [
    "encoder, decoder, enc_args, dec_args = mlp_architecture_ala_iclr_18(n_pc_points, bneck_size)\n",
    "train_dir = create_dir(osp.join(top_out_dir, experiment_name))"
   ]
  },
  {
   "cell_type": "code",
   "execution_count": null,
   "metadata": {
    "collapsed": false
   },
   "outputs": [],
   "source": [
    "conf = Conf(n_input = [n_pc_points, 3],\n",
    "            loss = ae_loss,\n",
    "            training_epochs = train_params['training_epochs'],\n",
    "            batch_size = train_params['batch_size'],\n",
    "            denoising = train_params['denoising'],\n",
    "            learning_rate = train_params['learning_rate'],\n",
    "            train_dir = train_dir,\n",
    "            loss_display_step = train_params['loss_display_step'],\n",
    "            saver_step = train_params['saver_step'],\n",
    "            z_rotate = train_params['z_rotate'],\n",
    "            encoder = encoder,\n",
    "            decoder = decoder,\n",
    "            encoder_args = enc_args,\n",
    "            decoder_args = dec_args\n",
    "           )\n",
    "conf.experiment_name = experiment_name\n",
    "conf.held_out_step = 5   # How often to evaluate/print out loss on \n",
    "                         # held_out data (if they are provided in ae.train() ).\n",
    "conf.save(osp.join(train_dir, 'configuration'))"
   ]
  },
  {
   "cell_type": "markdown",
   "metadata": {},
   "source": [
    "Load Pre-Trained AE Model"
   ]
  },
  {
   "cell_type": "code",
   "execution_count": null,
   "metadata": {
    "collapsed": false
   },
   "outputs": [],
   "source": [
    "load_pre_trained_ae = False\n",
    "restore_epoch = 500\n",
    "if load_pre_trained_ae:\n",
    "    conf = Conf.load(train_dir + '/configuration')\n",
    "    reset_tf_graph()\n",
    "    ae = PointNetAutoEncoder(conf.experiment_name, conf)\n",
    "    ae.restore_model(conf.train_dir, epoch=restore_epoch)"
   ]
  },
  {
   "cell_type": "markdown",
   "metadata": {},
   "source": [
    "Build the AE Model"
   ]
  },
  {
   "cell_type": "code",
   "execution_count": null,
   "metadata": {
    "collapsed": false
   },
   "outputs": [],
   "source": [
    "if not load_pre_trained_ae:\n",
    "    reset_tf_graph()\n",
    "    ae = PointNetAutoEncoder(conf.experiment_name, conf)"
   ]
  },
  {
   "cell_type": "markdown",
   "metadata": {},
   "source": [
    "Train the AE Model"
   ]
  },
  {
   "cell_type": "code",
   "execution_count": null,
   "metadata": {
    "collapsed": false,
    "tags": []
   },
   "outputs": [],
   "source": [
    "if not load_pre_trained_ae:\n",
    "    buf_size = 1 # Make 'training_stats' file to flush each output line regarding training.\n",
    "    fout = open(osp.join(conf.train_dir, 'train_stats.txt'), 'a', buf_size)\n",
    "    train_stats = ae.train(all_pc_data, conf, log_file=fout)\n",
    "    fout.close()"
   ]
  },
  {
   "source": [
    "# Export"
   ],
   "cell_type": "markdown",
   "metadata": {}
  },
  {
   "source": [
    "Define Export parameters"
   ],
   "cell_type": "markdown",
   "metadata": {}
  },
  {
   "cell_type": "code",
   "execution_count": null,
   "metadata": {},
   "outputs": [],
   "source": [
    "from plyfile import PlyData, PlyElement\n",
    "\n",
    "def write_ply(points, filename, text=True):\n",
    "    points = [(points[i,0], points[i,1], points[i,2]) for i in range(points.shape[0])]\n",
    "    vertex = np.array(points, dtype=[('x', 'f4'), ('y', 'f4'),('z', 'f4')])\n",
    "    el = PlyElement.describe(vertex, 'vertex', comments=['vertices'])\n",
    "    PlyData([el], text=text).write(filename)\n",
    "\n",
    "out_dir = \"/home/ozgucbertug/Documents/GitHub/latentHeuristics/out\"\n",
    "\n",
    "export_latent = True\n",
    "export_reconstruct = True\n",
    "export_interpolate = True"
   ]
  },
  {
   "cell_type": "markdown",
   "metadata": {},
   "source": [
    "Export all latent vectors and labels to csv file"
   ]
  },
  {
   "cell_type": "code",
   "execution_count": null,
   "metadata": {},
   "outputs": [],
   "source": [
    "if export_latent:\n",
    "    all_latent_vectors = np.zeros((len(all_pc_data.point_clouds),128))\n",
    "\n",
    "    for i in range(len(all_pc_data.point_clouds)):\n",
    "        pc = all_pc_data.point_clouds[i].reshape((1,2048,3))\n",
    "        all_latent_vectors[i] = ae.transform(pc)\n",
    "\n",
    "    if not os.path.exists(out_dir+\"/csv\"):\n",
    "            os.makedirs(out_dir+\"/csv\")\n",
    "\n",
    "    vector_fn = out_dir+\"/csv/\"+experiment_name+\"_all_latent_vectors.csv\"\n",
    "    np.savetxt(vector_fn, all_latent_vectors, delimiter=',')\n",
    "    print(vector_fn+\" saved!\")\n",
    "\n",
    "    label_fn = out_dir+\"/csv/\"+experiment_name+\"_all_labels.csv\"\n",
    "    np.savetxt(label_fn,all_pc_data.labels.reshape((len(all_pc_data.labels,))), delimiter=',', fmt='%s')\n",
    "    print(label_fn+\" saved!\")"
   ]
  },
  {
   "source": [
    "Export reconstructed point clouds to ply file"
   ],
   "cell_type": "markdown",
   "metadata": {}
  },
  {
   "cell_type": "code",
   "execution_count": null,
   "metadata": {
    "tags": [
     "outputPrepend"
    ]
   },
   "outputs": [],
   "source": [
    "if export_reconstruct:\n",
    "    if not os.path.exists(out_dir+\"/ply/reconstruct\"):\n",
    "            os.makedirs(out_dir+\"/ply/reconstruct\")\n",
    "\n",
    "    for i in range(len(all_pc_data.point_clouds)):\n",
    "        fn = fn = out_dir+\"/ply/reconstruct/%s_reconstructed\" % (all_pc_data.labels[i])\n",
    "        pc = ae.reconstruct(all_pc_data.point_clouds[i].reshape((1,2048,3)))[0][0]\n",
    "        write_ply(pc, fn)\n",
    "        print(fn+\" saved!\")"
   ]
  },
  {
   "source": [
    "Export interpolated point clouds (simple_i --> asymmetric_i, spiral_i, lowPoly_i) to ply file"
   ],
   "cell_type": "markdown",
   "metadata": {}
  },
  {
   "cell_type": "code",
   "execution_count": null,
   "metadata": {
    "collapsed": false
   },
   "outputs": [],
   "source": [
    "if export_interpolate:\n",
    "    n_samples = 4\n",
    "    n_interpolate = 20\n",
    "\n",
    "    if not os.path.exists(out_dir+\"/ply/interpolate\"):\n",
    "            os.makedirs(out_dir+\"/ply/interpolate\")\n",
    "\n",
    "    for i in np.linspace(0, 2000, n_samples, endpoint=False):\n",
    "        i = int(i)\n",
    "        simple_asymmetric = ae.interpolate(all_pc_data.point_clouds[4000+i],  all_pc_data.point_clouds[0000+i], steps=n_interpolate)\n",
    "        simple_lowPoly = ae.interpolate(all_pc_data.point_clouds[4000+i],  all_pc_data.point_clouds[2000+i], steps=n_interpolate)\n",
    "        simple_spiral = ae.interpolate(all_pc_data.point_clouds[4000+i],  all_pc_data.point_clouds[6000+i], steps=n_interpolate)\n",
    "        for j in range(n_interpolate+2):\n",
    "            fn = out_dir+\"/ply/interpolate/simple_asymmetric_%04d_%02d\" % (i,j)\n",
    "            write_ply(simple_asymmetric[j], fn)\n",
    "            print(fn+\" saved!\")\n",
    "            \n",
    "            fn = out_dir+\"/ply/interpolate/simple_lowPoly_%04d_%02d\" % (i,j)\n",
    "            write_ply(simple_lowPoly[j], fn)\n",
    "            print(fn+\" saved!\")\n",
    "            \n",
    "            fn = out_dir+\"/ply/interpolate/simple_spiral_%04d_%02d\" % (i,j)\n",
    "            write_ply(simple_spiral[j], fn)\n",
    "            print(fn+\" saved!\")\n",
    "        "
   ]
  },
  {
   "cell_type": "code",
   "execution_count": null,
   "metadata": {},
   "outputs": [],
   "source": []
  }
 ],
 "metadata": {
  "kernelspec": {
   "name": "python2718jvsc74a57bd02df08e680095c0421d031642f9c277aec4dde14eeefdfbfd53d7d084974fb782",
   "display_name": "Python 2.7.18 64-bit ('ml': conda)"
  },
  "language_info": {
   "codemirror_mode": {
    "name": "ipython",
    "version": 2
   },
   "file_extension": ".py",
   "mimetype": "text/x-python",
   "name": "python",
   "nbconvert_exporter": "python",
   "pygments_lexer": "ipython2",
   "version": "2.7.18"
  },
  "metadata": {
   "interpreter": {
    "hash": "2df08e680095c0421d031642f9c277aec4dde14eeefdfbfd53d7d084974fb782"
   }
  }
 },
 "nbformat": 4,
 "nbformat_minor": 2
}